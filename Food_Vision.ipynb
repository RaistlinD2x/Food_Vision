{
  "cells": [
    {
      "cell_type": "markdown",
      "id": "c89b095a-c2f8-43e0-a0bf-30e2e1b9b912",
      "metadata": {
        "id": "c89b095a-c2f8-43e0-a0bf-30e2e1b9b912"
      },
      "source": [
        "# Project 1: Food Vision Big"
      ]
    },
    {
      "cell_type": "markdown",
      "id": "2e77ffb3-1cc2-4e1a-999c-e93ec1dedac0",
      "metadata": {
        "id": "2e77ffb3-1cc2-4e1a-999c-e93ec1dedac0"
      },
      "source": [
        "## Check GPU for Mixed Precision Training Capability\n",
        "\n",
        "> The author of this notebook is running this notebook in Jupyter Lab on a home PC utilizing an NVIDIA RTX3090 GPU. For Mixed Precision Training to work, the GPU you're running must have a 'Compute Capability' of 7.0 or higher. That information can be found here for NVIDIA: https://developer.nvidia.com/cuda-gpus#compute"
      ]
    },
    {
      "cell_type": "code",
      "execution_count": 1,
      "id": "655bc243-242c-499b-94fe-deffaac04089",
      "metadata": {
        "colab": {
          "base_uri": "https://localhost:8080/"
        },
        "id": "655bc243-242c-499b-94fe-deffaac04089",
        "outputId": "7fb4cfaf-8efd-4136-9e98-d39c93d80a8e"
      },
      "outputs": [
        {
          "output_type": "stream",
          "name": "stdout",
          "text": [
            "GPU 0: Tesla T4 (UUID: GPU-27f8c828-87c9-7878-78e0-863228c3c5df)\n"
          ]
        }
      ],
      "source": [
        "# Check which GPU you're using\n",
        "!nvidia-smi -L"
      ]
    },
    {
      "cell_type": "markdown",
      "id": "9f767a10-a3f5-410b-a014-2afac8c0d216",
      "metadata": {
        "id": "9f767a10-a3f5-410b-a014-2afac8c0d216"
      },
      "source": [
        "## Get helper functions\n",
        "\n",
        "This `helper_functions.py` is from other works. We can download it from here: https://raw.githubusercontent.com/mrdbourke/tensorflow-deep-learning/main/extras/helper_functions.py"
      ]
    },
    {
      "cell_type": "code",
      "execution_count": 2,
      "id": "7f2fb0ce-bf01-4c38-b7e0-73d148ed404d",
      "metadata": {
        "colab": {
          "base_uri": "https://localhost:8080/"
        },
        "id": "7f2fb0ce-bf01-4c38-b7e0-73d148ed404d",
        "outputId": "83924bb3-0358-48c3-e0dd-a0e25f7f6c24"
      },
      "outputs": [
        {
          "output_type": "stream",
          "name": "stdout",
          "text": [
            "--2023-01-18 02:57:32--  https://raw.githubusercontent.com/mrdbourke/tensorflow-deep-learning/main/extras/helper_functions.py\n",
            "Resolving raw.githubusercontent.com (raw.githubusercontent.com)... 185.199.108.133, 185.199.109.133, 185.199.110.133, ...\n",
            "Connecting to raw.githubusercontent.com (raw.githubusercontent.com)|185.199.108.133|:443... connected.\n",
            "HTTP request sent, awaiting response... 200 OK\n",
            "Length: 10246 (10K) [text/plain]\n",
            "Saving to: ‘helper_functions.py’\n",
            "\n",
            "\rhelper_functions.py   0%[                    ]       0  --.-KB/s               \rhelper_functions.py 100%[===================>]  10.01K  --.-KB/s    in 0s      \n",
            "\n",
            "2023-01-18 02:57:32 (60.3 MB/s) - ‘helper_functions.py’ saved [10246/10246]\n",
            "\n"
          ]
        }
      ],
      "source": [
        "# Download helper_functions.py if it does not exist\n",
        "import os\n",
        "if not os.path.exists(\"helper_functions.py\"):\n",
        "  !wget https://raw.githubusercontent.com/mrdbourke/tensorflow-deep-learning/main/extras/helper_functions.py\n",
        "else:\n",
        "  print(\"[INFO] 'helper_functions.py' exists, skipping download.\")"
      ]
    },
    {
      "cell_type": "code",
      "execution_count": 3,
      "id": "61c45773-e8b8-4904-b537-88c7e683c368",
      "metadata": {
        "id": "61c45773-e8b8-4904-b537-88c7e683c368"
      },
      "outputs": [],
      "source": [
        "from helper_functions import create_tensorboard_callback, plot_loss_curves, compare_historys"
      ]
    },
    {
      "cell_type": "markdown",
      "id": "c72dba20-5cfb-4826-adff-5c3892dbd0e9",
      "metadata": {
        "id": "c72dba20-5cfb-4826-adff-5c3892dbd0e9"
      },
      "source": [
        "## Use TensorFlow Datasets to Download Data\n",
        "\n",
        "[Guide and datasets list here.](https://www.tensorflow.org/datasets)"
      ]
    },
    {
      "cell_type": "code",
      "execution_count": 4,
      "id": "c1bd8d19-d676-4c62-b599-9f3bf9bc1f2e",
      "metadata": {
        "id": "c1bd8d19-d676-4c62-b599-9f3bf9bc1f2e"
      },
      "outputs": [],
      "source": [
        "# Get TensorFlow Dataset\n",
        "import tensorflow_datasets as tfds"
      ]
    },
    {
      "cell_type": "code",
      "execution_count": 5,
      "id": "1fd61971-9d32-453f-9ea9-81b65b6af9a0",
      "metadata": {
        "id": "1fd61971-9d32-453f-9ea9-81b65b6af9a0"
      },
      "outputs": [],
      "source": [
        "# turn off check for Google authentication for the public bucket these datasets reside in\n",
        "tfds.core.utils.gcs_utils._is_gcs_disabled = True\n",
        "os.environ['NO_GCE_CHECK'] = 'true'\n",
        "\n",
        "# List all available datasets\n",
        "datasets_list = tfds.list_builders() # get all available in TFDS\n",
        "\n",
        "# Check if food101 is in the list\n",
        "# print(\"food101\" in datasets_list)"
      ]
    },
    {
      "cell_type": "code",
      "execution_count": null,
      "id": "75293396-92fb-4a42-b55d-de954e972ee2",
      "metadata": {
        "colab": {
          "base_uri": "https://localhost:8080/",
          "height": 130,
          "referenced_widgets": [
            "50a78f21dc7a4dcaa2ed42b3cf41ce15",
            "85cabbf7c9494781b2dd85a0ea6300ce",
            "daf1d735f75c4a5d9131da851c3c8a1a",
            "d52293a7483c4719b9a3f6c829cc4a41",
            "5d7f16af1dab4c19a3165886ae0f73c9",
            "a5d95299836b43608a9e702c436c8599",
            "c533bb0840b44bf8945c9d3c7db04361",
            "8f20fa9016b44700be8057e78ace69da",
            "b63129d6c4b44bd19a02374b0cdc0567",
            "5694918de8c7403bbc0671cf43c2bc2d",
            "845407d0b98e4b4faa78234597e3739d",
            "847fea89b50a4148858a8f67af5385d0",
            "79bc9cc7a94a4bc2b5e39da4d58fe005",
            "8b2a75b0479a46d8a6a66406cdabe952",
            "1eb6b6fc6d1f4239b16a47210ba549d8",
            "e53c626a21144d549a5ce81c591b698d",
            "f5bcc85068cc44e5aaee89e416a8ccf9",
            "93ea5e04bf51488ca37a5f64e7c242fc",
            "1078577ee8b7470e9b03c48fcafb4388",
            "fcee361328424da8992a90f6ff109df2",
            "90e29cf1d0504477a9418c1bb42d1f55",
            "5c02b85f51f6488aadd6f107058db3be",
            "40204d98f8d34dbb92b45db5849e23ed",
            "59e25d8f4e6e4105bccddbc046c9a7a6",
            "8e10c61ecdc1432bb59dddc5b8a5d81d",
            "1d7c81c610ec47c59177f3a1373697d5",
            "6522011e7ec04243a14015f43c822150",
            "3de573a1048f4187ad367c3f2b8b4a64",
            "86c1d41185704e8598f209f5ae4228dc",
            "68eb101c13ca4a8f8afd7fb05da83583",
            "e252e43614b847a8a704d986c2a56b35",
            "d6ce137c93d647679d02dac3242fcdbd",
            "7014948294aa463c8ce10e7df9023cea"
          ]
        },
        "id": "75293396-92fb-4a42-b55d-de954e972ee2",
        "outputId": "523692cd-6e77-434d-9ed5-f34fe586ed46"
      },
      "outputs": [
        {
          "output_type": "stream",
          "name": "stdout",
          "text": [
            "Downloading and preparing dataset Unknown size (download: Unknown size, generated: Unknown size, total: Unknown size) to /root/tensorflow_datasets/food101/2.0.0...\n"
          ]
        },
        {
          "output_type": "display_data",
          "data": {
            "text/plain": [
              "Dl Completed...: 0 url [00:00, ? url/s]"
            ],
            "application/vnd.jupyter.widget-view+json": {
              "version_major": 2,
              "version_minor": 0,
              "model_id": "50a78f21dc7a4dcaa2ed42b3cf41ce15"
            }
          },
          "metadata": {}
        },
        {
          "output_type": "display_data",
          "data": {
            "text/plain": [
              "Dl Size...: 0 MiB [00:00, ? MiB/s]"
            ],
            "application/vnd.jupyter.widget-view+json": {
              "version_major": 2,
              "version_minor": 0,
              "model_id": "847fea89b50a4148858a8f67af5385d0"
            }
          },
          "metadata": {}
        },
        {
          "output_type": "display_data",
          "data": {
            "text/plain": [
              "Extraction completed...: 0 file [00:00, ? file/s]"
            ],
            "application/vnd.jupyter.widget-view+json": {
              "version_major": 2,
              "version_minor": 0,
              "model_id": "40204d98f8d34dbb92b45db5849e23ed"
            }
          },
          "metadata": {}
        }
      ],
      "source": [
        "# # Load in the Food101 data (this can take a few minutes, 5GB)\n",
        "(train_data, test_data), ds_info = tfds.load(name=\"food101\",\n",
        "                                            split=[\"train\", \"validation\"], # each data set is potentially different, some have train, valid, test\n",
        "                                            shuffle_files=True,\n",
        "                                            as_supervised=True, # data gets returns in tuple format (data, label)\n",
        "                                            with_info=True) # this provides the data back to the ds_info variable"
      ]
    },
    {
      "cell_type": "code",
      "execution_count": null,
      "id": "0b4619ee-512a-429e-8ea3-dd5aa7271d33",
      "metadata": {
        "id": "0b4619ee-512a-429e-8ea3-dd5aa7271d33"
      },
      "outputs": [],
      "source": [
        "# Features of Food101 from TFDS\n",
        "ds_info.features"
      ]
    },
    {
      "cell_type": "code",
      "execution_count": null,
      "id": "e5e04099-126a-49b0-990a-a35d7ea84d09",
      "metadata": {
        "id": "e5e04099-126a-49b0-990a-a35d7ea84d09"
      },
      "outputs": [],
      "source": [
        "# Get class names\n",
        "class_names = ds_info.features[\"label\"].names\n",
        "class_names[:10]"
      ]
    },
    {
      "cell_type": "markdown",
      "id": "4f0c692d-732a-44c0-97a9-095970aea4da",
      "metadata": {
        "id": "4f0c692d-732a-44c0-97a9-095970aea4da"
      },
      "source": [
        "## Exploring Food101 data from TFDS\n",
        "\n",
        "We need to find:\n",
        "* Class names\n",
        "* Shape of image tensors\n",
        "* Datatype of the data\n",
        "* What do labels look like (one-hot vs label encoded)\n",
        "* Do the labels match up with the class_names?"
      ]
    },
    {
      "cell_type": "code",
      "execution_count": null,
      "id": "e3df0aa0-8251-4744-9db0-9689fcdbf2fc",
      "metadata": {
        "id": "e3df0aa0-8251-4744-9db0-9689fcdbf2fc"
      },
      "outputs": [],
      "source": [
        "# Take one sample of the train data\n",
        "train_one_sample = train_data.take(1) # samples are in format (image_tensor, label)"
      ]
    },
    {
      "cell_type": "code",
      "execution_count": null,
      "id": "e26bac8f-c03e-4083-a52e-93fcef17cb70",
      "metadata": {
        "id": "e26bac8f-c03e-4083-a52e-93fcef17cb70"
      },
      "outputs": [],
      "source": [
        "# What does one sample of our training data look like?\n",
        "train_one_sample"
      ]
    },
    {
      "cell_type": "code",
      "execution_count": null,
      "id": "3fcfee93-d12d-4661-af3b-474f72b810be",
      "metadata": {
        "id": "3fcfee93-d12d-4661-af3b-474f72b810be"
      },
      "outputs": [],
      "source": [
        "# Output info about the training sample\n",
        "for image, label in train_one_sample:\n",
        "    print(f\"\"\"\n",
        "    Image Shape: {image.shape},\n",
        "    Image datatype: {image.dtype},\n",
        "    Target class from Food101 (tensor form): {label}\n",
        "    Class name (str form): {class_names[label.numpy()]}\n",
        "    \"\"\")"
      ]
    },
    {
      "cell_type": "code",
      "execution_count": null,
      "id": "5658349b-7d9e-4d9c-ac7b-9358e3fc8351",
      "metadata": {
        "id": "5658349b-7d9e-4d9c-ac7b-9358e3fc8351"
      },
      "outputs": [],
      "source": [
        "# What does our image tensor from TFDS Food101 look like?\n",
        "image"
      ]
    },
    {
      "cell_type": "code",
      "execution_count": null,
      "id": "73165fe3-0762-4199-99b0-d20a214809a9",
      "metadata": {
        "id": "73165fe3-0762-4199-99b0-d20a214809a9"
      },
      "outputs": [],
      "source": [
        "# What are the min and max values of our image tensor? RGB 0-255, need to normalize\n",
        "import tensorflow as tf\n",
        "tf.reduce_min(image), tf.reduce_max(image)"
      ]
    },
    {
      "cell_type": "markdown",
      "id": "0c0a4d7f-c14b-47f8-bbf1-c94c824033f5",
      "metadata": {
        "id": "0c0a4d7f-c14b-47f8-bbf1-c94c824033f5"
      },
      "source": [
        "### Plot an image from TensorFlow Datasets"
      ]
    },
    {
      "cell_type": "code",
      "execution_count": null,
      "id": "376933f2-1050-4e38-8491-1aa195f976ca",
      "metadata": {
        "id": "376933f2-1050-4e38-8491-1aa195f976ca"
      },
      "outputs": [],
      "source": [
        "# Plot an image tensor\n",
        "import matplotlib.pyplot as plt\n",
        "plt.imshow(image)\n",
        "plt.title(class_names[label.numpy()]) # add title to image to verify label is matched to training data correctly\n",
        "plt.axis(False)"
      ]
    },
    {
      "cell_type": "markdown",
      "id": "bf6027f2-9986-457f-86a2-777e64e282bb",
      "metadata": {
        "id": "bf6027f2-9986-457f-86a2-777e64e282bb"
      },
      "source": [
        "## Create preprocessing functions for our data\n",
        "\n",
        "Neural Networks perform best when data is prepared in a certain way (e.g., batched, normalized, etc.)\n",
        "\n",
        "What we know about our data:\n",
        "* In `uint8` datatype\n",
        "* Comprised of various sized tensors\n",
        "* Not scaled (pixels are RGB values)\n",
        "\n",
        "What models like:\n",
        "* Data in `float32` or mixed precision `float16` and `float32`\n",
        "* For batches, TensorFlow likes all of the tensors within a batch to be of the same size (typically 32)\n",
        "* Scaled (values between 0 & 1), also called normalization\n",
        "\n",
        "EfficientNetBX pretrained model will be used from `tf.keras.applications`, these models have a layer for scaling built in.\n",
        "\n",
        "This means our functions need to:\n",
        "1. Reshape our images to all the same size\n",
        "2. Convert the dtype of our image tensors from `uint8` to `float32`"
      ]
    },
    {
      "cell_type": "code",
      "execution_count": null,
      "id": "d75c02da-e3b2-4818-bf61-1233f267a380",
      "metadata": {
        "id": "d75c02da-e3b2-4818-bf61-1233f267a380"
      },
      "outputs": [],
      "source": [
        "# Make function for preprocessing images\n",
        "def preprocess_img(image, label, img_shape=224):\n",
        "    \"\"\"\n",
        "    Converts image datatype form 'uint8' -> 'float32' and reshapes\n",
        "    image to [img_shape, img_shape, color_channels]\n",
        "    \"\"\"\n",
        "    image = tf.image.resize(image, [img_shape, img_shape]) # reshape target image\n",
        "    # image = image / 255. # scales image values, however, this is not required for EfficientNetBX models from tf.keras.applications as a normalization/scaling layer exists\n",
        "    return tf.cast(image, tf.float32), label # return (float32_image, label) tuple"
      ]
    },
    {
      "cell_type": "code",
      "execution_count": null,
      "id": "04d06409-a122-4c05-8276-5da3b4bd336a",
      "metadata": {
        "id": "04d06409-a122-4c05-8276-5da3b4bd336a"
      },
      "outputs": [],
      "source": [
        "# preprocess a single sample image and check outputs\n",
        "preprocessed_img = preprocess_img(image, label)[0]\n",
        "print(f\"Image before preprocessing:\\n {image[:2]}..., \\nShape: {image.shape}, \\nDatatype: {image.dtype}\")\n",
        "print(f\"Image after preprocessing:\\n {preprocessed_img[:2]}..., \\nShape: {preprocessed_img.shape}, \\nDatatype: {preprocessed_img.dtype}\")"
      ]
    },
    {
      "cell_type": "markdown",
      "id": "b11ff508-61f4-42f5-a529-6d42e224a553",
      "metadata": {
        "id": "b11ff508-61f4-42f5-a529-6d42e224a553"
      },
      "source": [
        "## Batch & Prepare datasets\n",
        "\n",
        "Create a performant data input pipeline.\n",
        "\n",
        "As a resource, the [tf.data API](https://www.tensorflow.org/guide/data) as well as [TesorFlow pipeline optimizations](https://www.tensorflow.org/guide/data_performance)."
      ]
    },
    {
      "cell_type": "code",
      "execution_count": null,
      "id": "3bc8aed4-8c8a-4d3d-86ef-4fd12003b6ef",
      "metadata": {
        "id": "3bc8aed4-8c8a-4d3d-86ef-4fd12003b6ef"
      },
      "outputs": [],
      "source": [
        "# Map preprocessing function to training data (and parallelize)\n",
        "train_data = train_data.map(map_func=preprocess_img, num_parallel_calls=tf.data.AUTOTUNE)\n",
        "\n",
        "# Shuffle train_data and turn it into batches and prefect it (load it faster). buffer_size limits shuffling to limit RAM overload\n",
        "train_data = train_data.shuffle(buffer_size=1000).batch(batch_size=32).prefetch(buffer_size=tf.data.AUTOTUNE)\n",
        "\n",
        "# Map preprocessing function to test data\n",
        "test_data = test_data.map(preprocess_img, num_parallel_calls=tf.data.AUTOTUNE).batch(32).prefetch(tf.data.AUTOTUNE)"
      ]
    },
    {
      "cell_type": "code",
      "execution_count": null,
      "id": "cc43dafa-7f8e-4bf3-a769-ae5991a9e0a2",
      "metadata": {
        "id": "cc43dafa-7f8e-4bf3-a769-ae5991a9e0a2"
      },
      "outputs": [],
      "source": [
        "train_data, test_data"
      ]
    },
    {
      "cell_type": "markdown",
      "id": "91f28af3-e9c8-4e85-96d0-c5403309864b",
      "metadata": {
        "id": "91f28af3-e9c8-4e85-96d0-c5403309864b"
      },
      "source": [
        "> The above cells maps this preprocessing function (`preprocess_img`) across our training dataset, then shuffle a number of elements, then we'll batch a collection of 32. Finally we'll prepare batches via 'prefetch' while the model is training on the previous batch."
      ]
    },
    {
      "cell_type": "markdown",
      "id": "46a42891-0984-4258-bef1-49cc13508ad1",
      "metadata": {
        "id": "46a42891-0984-4258-bef1-49cc13508ad1"
      },
      "source": [
        "## Create modeling callback\n",
        "\n",
        "Callbacks to create:\n",
        "* Tensorboard callback to log training results for visualization\n",
        "* ModelCheckpoint callback to save our model's progress after feature extraction"
      ]
    },
    {
      "cell_type": "code",
      "execution_count": null,
      "id": "3a80087f-36aa-4bc8-8cc1-ff7876028338",
      "metadata": {
        "id": "3a80087f-36aa-4bc8-8cc1-ff7876028338"
      },
      "outputs": [],
      "source": [
        "# Create TensorBoard callback (import from helper_functions.py)\n",
        "from helper_functions import create_tensorboard_callback\n",
        "\n",
        "# Create ModelCheckpoint callback to save a model's progress during training\n",
        "checkpoint_path = \"model_checkpoints/cp.ckpt\"\n",
        "model_checkpoint = tf.keras.callbacks.ModelCheckpoint(checkpoint_path,\n",
        "                                                      monitor=\"val_acc\",\n",
        "                                                      save_best_only=True,\n",
        "                                                     save_weights_only=True,\n",
        "                                                     verbose=0) # don't print to stdout"
      ]
    },
    {
      "cell_type": "markdown",
      "id": "3c4f2c39-c6f9-4742-9c70-32592a2b3082",
      "metadata": {
        "id": "3c4f2c39-c6f9-4742-9c70-32592a2b3082"
      },
      "source": [
        "## Setup mixed precision training\n",
        "\n",
        "[Mixed Precision Documentation](https://www.tensorflow.org/guide/mixed_precision)\n",
        "\n",
        "Mixed precision utilized a mix of float16 and float32 to improve RAM usage and speed up processes."
      ]
    },
    {
      "cell_type": "code",
      "execution_count": null,
      "id": "6c2a98b9-9e8a-4a45-97b1-aaa72a5a85e0",
      "metadata": {
        "id": "6c2a98b9-9e8a-4a45-97b1-aaa72a5a85e0"
      },
      "outputs": [],
      "source": [
        "# Turn on mixed precision training\n",
        "# from tensorflow.keras import mixed_precision\n",
        "# mixed precision is broken for EfficientNetB0 in TensorFlow, disabling\n",
        "# mixed_precision.set_global_policy(\"mixed_float16\") # set global data policy to mixed precision"
      ]
    },
    {
      "cell_type": "markdown",
      "source": [
        "## Build feature extraction model"
      ],
      "metadata": {
        "id": "e28b5627-b8da-4f56-be78-86854351c14a"
      },
      "id": "e28b5627-b8da-4f56-be78-86854351c14a"
    },
    {
      "cell_type": "code",
      "source": [
        "from tensorflow.keras import layers\n",
        "# preprocessing not needed for EfficientNetB0\n",
        "from tensorflow.keras.layers.experimental import preprocessing\n",
        "\n",
        "# Create base model\n",
        "input_shape = (224,224,3)\n",
        "base_model = tf.keras.applications.EfficientNetB0(include_top=False)\n",
        "base_model.trainable = False\n",
        "\n",
        "# Create functional model\n",
        "inputs = layers.Input(shape=input_shape, name=\"input_layer\")\n",
        "# Note: EfficientNetBX models have scaling layer built in, otherwise use below\n",
        "# x = preprocessing.Rescaling(1./255) # 255 represents 0-255 for RGB values on pictures\n",
        "x = base_model(inputs, training=False) # makes sure layers are in inference mode\n",
        "x = layers.GlobalAveragePooling2D()(x)\n",
        "# Dense layer as the final layer in broken\n",
        "# x = layers.Dense(len(class_names)) # not using activation function here, we'll separate so we can conver to float32\n",
        "outputs = layers.Dense(len(class_names), activation=\"softmax\", name=\"softmax_float32\")(x)\n",
        "model = tf.keras.Model(inputs, outputs)\n",
        "\n",
        "# compile the model\n",
        "model.compile(loss=\"sparse_categorical_crossentropy\",\n",
        "              optimizer=tf.keras.optimizers.Adam(),\n",
        "              metrics=[\"accuracy\"])\n",
        "\n"
      ],
      "metadata": {
        "id": "TB4jD4Z_NaNk"
      },
      "id": "TB4jD4Z_NaNk",
      "execution_count": null,
      "outputs": []
    },
    {
      "cell_type": "markdown",
      "source": [
        "## Setup Mixed Precision Training \n",
        "\n",
        "> Mixed Precision is currently broken for EfficientNetB0 with this version of TensorFlow"
      ],
      "metadata": {
        "id": "-y_6iP1MQBzg"
      },
      "id": "-y_6iP1MQBzg"
    },
    {
      "cell_type": "code",
      "source": [
        "model.summary()"
      ],
      "metadata": {
        "id": "Y3jXzl9vQMqw"
      },
      "id": "Y3jXzl9vQMqw",
      "execution_count": null,
      "outputs": []
    },
    {
      "cell_type": "markdown",
      "source": [
        "## Checking layer dtype policies (checking if we're using mixed precision)"
      ],
      "metadata": {
        "id": "eeSyJOvKTfgs"
      },
      "id": "eeSyJOvKTfgs"
    },
    {
      "cell_type": "code",
      "source": [
        "# Check the dtype_policy attributes of the layers in the model\n",
        "for layer in model.layers:\n",
        "  print(layer.name, layer.trainable, layer.dtype, layer.dtype_policy)\n",
        "\n",
        "# This is all float32 as mixed precision isn't currently functional for EfficientNetB0 in current TensorFlow version 2.9.2"
      ],
      "metadata": {
        "id": "4SfHOpw5T4NT"
      },
      "id": "4SfHOpw5T4NT",
      "execution_count": null,
      "outputs": []
    },
    {
      "cell_type": "code",
      "source": [
        "# Check the dtype_policy attributes of layers in the base model\n",
        "for layer in model.layers[1].layers[:20]: # checks efficientnetB0 layers\n",
        "  print(layer.name, layer.trainable, layer.dtype, layer.dtype_policy)\n",
        "\n",
        "# again this is only for reference, mixed precision isn't currently working"
      ],
      "metadata": {
        "id": "asuIfqA_UDR8"
      },
      "id": "asuIfqA_UDR8",
      "execution_count": null,
      "outputs": []
    },
    {
      "cell_type": "markdown",
      "source": [
        "## Fit the feature extraction model\n",
        "\n",
        "Our goal is to fine-tune a pretrained model, we'll follow the order of:\n",
        "1. Build a feature extraction model (train a couple of output layers with base layers frozen)\n",
        "2. Fine-tune some of the base model layers"
      ],
      "metadata": {
        "id": "1w1WlQYMVWKb"
      },
      "id": "1w1WlQYMVWKb"
    },
    {
      "cell_type": "code",
      "source": [
        "# Fit feature extraction model with callbacks\n",
        "history_101_food_classes_feature_extract = model.fit(train_data,\n",
        "                                                     epochs=3,\n",
        "                                                     steps_per_epoch=(len(train_data)),\n",
        "                                                     validation_data=test_data,\n",
        "                                                     validation_steps=(0.15 * len(test_data)),\n",
        "                                                     callbacks=[create_tensorboard_callback(dir_name=\"training_logs\",\n",
        "                                                                                            experiment_name=\"efficientnetb0_101_classes_all_data_feature_extract\"),\n",
        "                                                                model_checkpoint])"
      ],
      "metadata": {
        "id": "yFqAdDcUW-yR"
      },
      "id": "yFqAdDcUW-yR",
      "execution_count": null,
      "outputs": []
    },
    {
      "cell_type": "code",
      "source": [
        "# Evaluate model on whole test dataset\n",
        "results_feature_extract_model = model.evaluate(test_data)"
      ],
      "metadata": {
        "id": "swTo2NWgXpw2"
      },
      "id": "swTo2NWgXpw2",
      "execution_count": null,
      "outputs": []
    },
    {
      "cell_type": "code",
      "source": [],
      "metadata": {
        "id": "IOUoxpLVb09T"
      },
      "id": "IOUoxpLVb09T",
      "execution_count": null,
      "outputs": []
    }
  ],
  "metadata": {
    "kernelspec": {
      "display_name": "Python 3 (ipykernel)",
      "language": "python",
      "name": "python3"
    },
    "language_info": {
      "codemirror_mode": {
        "name": "ipython",
        "version": 3
      },
      "file_extension": ".py",
      "mimetype": "text/x-python",
      "name": "python",
      "nbconvert_exporter": "python",
      "pygments_lexer": "ipython3",
      "version": "3.10.8"
    },
    "colab": {
      "provenance": []
    },
    "accelerator": "GPU",
    "gpuClass": "standard",
    "widgets": {
      "application/vnd.jupyter.widget-state+json": {
        "50a78f21dc7a4dcaa2ed42b3cf41ce15": {
          "model_module": "@jupyter-widgets/controls",
          "model_name": "HBoxModel",
          "model_module_version": "1.5.0",
          "state": {
            "_dom_classes": [],
            "_model_module": "@jupyter-widgets/controls",
            "_model_module_version": "1.5.0",
            "_model_name": "HBoxModel",
            "_view_count": null,
            "_view_module": "@jupyter-widgets/controls",
            "_view_module_version": "1.5.0",
            "_view_name": "HBoxView",
            "box_style": "",
            "children": [
              "IPY_MODEL_85cabbf7c9494781b2dd85a0ea6300ce",
              "IPY_MODEL_daf1d735f75c4a5d9131da851c3c8a1a",
              "IPY_MODEL_d52293a7483c4719b9a3f6c829cc4a41"
            ],
            "layout": "IPY_MODEL_5d7f16af1dab4c19a3165886ae0f73c9"
          }
        },
        "85cabbf7c9494781b2dd85a0ea6300ce": {
          "model_module": "@jupyter-widgets/controls",
          "model_name": "HTMLModel",
          "model_module_version": "1.5.0",
          "state": {
            "_dom_classes": [],
            "_model_module": "@jupyter-widgets/controls",
            "_model_module_version": "1.5.0",
            "_model_name": "HTMLModel",
            "_view_count": null,
            "_view_module": "@jupyter-widgets/controls",
            "_view_module_version": "1.5.0",
            "_view_name": "HTMLView",
            "description": "",
            "description_tooltip": null,
            "layout": "IPY_MODEL_a5d95299836b43608a9e702c436c8599",
            "placeholder": "​",
            "style": "IPY_MODEL_c533bb0840b44bf8945c9d3c7db04361",
            "value": "Dl Completed...: 100%"
          }
        },
        "daf1d735f75c4a5d9131da851c3c8a1a": {
          "model_module": "@jupyter-widgets/controls",
          "model_name": "FloatProgressModel",
          "model_module_version": "1.5.0",
          "state": {
            "_dom_classes": [],
            "_model_module": "@jupyter-widgets/controls",
            "_model_module_version": "1.5.0",
            "_model_name": "FloatProgressModel",
            "_view_count": null,
            "_view_module": "@jupyter-widgets/controls",
            "_view_module_version": "1.5.0",
            "_view_name": "ProgressView",
            "bar_style": "info",
            "description": "",
            "description_tooltip": null,
            "layout": "IPY_MODEL_8f20fa9016b44700be8057e78ace69da",
            "max": 1,
            "min": 0,
            "orientation": "horizontal",
            "style": "IPY_MODEL_b63129d6c4b44bd19a02374b0cdc0567",
            "value": 1
          }
        },
        "d52293a7483c4719b9a3f6c829cc4a41": {
          "model_module": "@jupyter-widgets/controls",
          "model_name": "HTMLModel",
          "model_module_version": "1.5.0",
          "state": {
            "_dom_classes": [],
            "_model_module": "@jupyter-widgets/controls",
            "_model_module_version": "1.5.0",
            "_model_name": "HTMLModel",
            "_view_count": null,
            "_view_module": "@jupyter-widgets/controls",
            "_view_module_version": "1.5.0",
            "_view_name": "HTMLView",
            "description": "",
            "description_tooltip": null,
            "layout": "IPY_MODEL_5694918de8c7403bbc0671cf43c2bc2d",
            "placeholder": "​",
            "style": "IPY_MODEL_845407d0b98e4b4faa78234597e3739d",
            "value": " 1/1 [09:29&lt;00:00, 255.26s/ url]"
          }
        },
        "5d7f16af1dab4c19a3165886ae0f73c9": {
          "model_module": "@jupyter-widgets/base",
          "model_name": "LayoutModel",
          "model_module_version": "1.2.0",
          "state": {
            "_model_module": "@jupyter-widgets/base",
            "_model_module_version": "1.2.0",
            "_model_name": "LayoutModel",
            "_view_count": null,
            "_view_module": "@jupyter-widgets/base",
            "_view_module_version": "1.2.0",
            "_view_name": "LayoutView",
            "align_content": null,
            "align_items": null,
            "align_self": null,
            "border": null,
            "bottom": null,
            "display": null,
            "flex": null,
            "flex_flow": null,
            "grid_area": null,
            "grid_auto_columns": null,
            "grid_auto_flow": null,
            "grid_auto_rows": null,
            "grid_column": null,
            "grid_gap": null,
            "grid_row": null,
            "grid_template_areas": null,
            "grid_template_columns": null,
            "grid_template_rows": null,
            "height": null,
            "justify_content": null,
            "justify_items": null,
            "left": null,
            "margin": null,
            "max_height": null,
            "max_width": null,
            "min_height": null,
            "min_width": null,
            "object_fit": null,
            "object_position": null,
            "order": null,
            "overflow": null,
            "overflow_x": null,
            "overflow_y": null,
            "padding": null,
            "right": null,
            "top": null,
            "visibility": null,
            "width": null
          }
        },
        "a5d95299836b43608a9e702c436c8599": {
          "model_module": "@jupyter-widgets/base",
          "model_name": "LayoutModel",
          "model_module_version": "1.2.0",
          "state": {
            "_model_module": "@jupyter-widgets/base",
            "_model_module_version": "1.2.0",
            "_model_name": "LayoutModel",
            "_view_count": null,
            "_view_module": "@jupyter-widgets/base",
            "_view_module_version": "1.2.0",
            "_view_name": "LayoutView",
            "align_content": null,
            "align_items": null,
            "align_self": null,
            "border": null,
            "bottom": null,
            "display": null,
            "flex": null,
            "flex_flow": null,
            "grid_area": null,
            "grid_auto_columns": null,
            "grid_auto_flow": null,
            "grid_auto_rows": null,
            "grid_column": null,
            "grid_gap": null,
            "grid_row": null,
            "grid_template_areas": null,
            "grid_template_columns": null,
            "grid_template_rows": null,
            "height": null,
            "justify_content": null,
            "justify_items": null,
            "left": null,
            "margin": null,
            "max_height": null,
            "max_width": null,
            "min_height": null,
            "min_width": null,
            "object_fit": null,
            "object_position": null,
            "order": null,
            "overflow": null,
            "overflow_x": null,
            "overflow_y": null,
            "padding": null,
            "right": null,
            "top": null,
            "visibility": null,
            "width": null
          }
        },
        "c533bb0840b44bf8945c9d3c7db04361": {
          "model_module": "@jupyter-widgets/controls",
          "model_name": "DescriptionStyleModel",
          "model_module_version": "1.5.0",
          "state": {
            "_model_module": "@jupyter-widgets/controls",
            "_model_module_version": "1.5.0",
            "_model_name": "DescriptionStyleModel",
            "_view_count": null,
            "_view_module": "@jupyter-widgets/base",
            "_view_module_version": "1.2.0",
            "_view_name": "StyleView",
            "description_width": ""
          }
        },
        "8f20fa9016b44700be8057e78ace69da": {
          "model_module": "@jupyter-widgets/base",
          "model_name": "LayoutModel",
          "model_module_version": "1.2.0",
          "state": {
            "_model_module": "@jupyter-widgets/base",
            "_model_module_version": "1.2.0",
            "_model_name": "LayoutModel",
            "_view_count": null,
            "_view_module": "@jupyter-widgets/base",
            "_view_module_version": "1.2.0",
            "_view_name": "LayoutView",
            "align_content": null,
            "align_items": null,
            "align_self": null,
            "border": null,
            "bottom": null,
            "display": null,
            "flex": null,
            "flex_flow": null,
            "grid_area": null,
            "grid_auto_columns": null,
            "grid_auto_flow": null,
            "grid_auto_rows": null,
            "grid_column": null,
            "grid_gap": null,
            "grid_row": null,
            "grid_template_areas": null,
            "grid_template_columns": null,
            "grid_template_rows": null,
            "height": null,
            "justify_content": null,
            "justify_items": null,
            "left": null,
            "margin": null,
            "max_height": null,
            "max_width": null,
            "min_height": null,
            "min_width": null,
            "object_fit": null,
            "object_position": null,
            "order": null,
            "overflow": null,
            "overflow_x": null,
            "overflow_y": null,
            "padding": null,
            "right": null,
            "top": null,
            "visibility": null,
            "width": "20px"
          }
        },
        "b63129d6c4b44bd19a02374b0cdc0567": {
          "model_module": "@jupyter-widgets/controls",
          "model_name": "ProgressStyleModel",
          "model_module_version": "1.5.0",
          "state": {
            "_model_module": "@jupyter-widgets/controls",
            "_model_module_version": "1.5.0",
            "_model_name": "ProgressStyleModel",
            "_view_count": null,
            "_view_module": "@jupyter-widgets/base",
            "_view_module_version": "1.2.0",
            "_view_name": "StyleView",
            "bar_color": null,
            "description_width": ""
          }
        },
        "5694918de8c7403bbc0671cf43c2bc2d": {
          "model_module": "@jupyter-widgets/base",
          "model_name": "LayoutModel",
          "model_module_version": "1.2.0",
          "state": {
            "_model_module": "@jupyter-widgets/base",
            "_model_module_version": "1.2.0",
            "_model_name": "LayoutModel",
            "_view_count": null,
            "_view_module": "@jupyter-widgets/base",
            "_view_module_version": "1.2.0",
            "_view_name": "LayoutView",
            "align_content": null,
            "align_items": null,
            "align_self": null,
            "border": null,
            "bottom": null,
            "display": null,
            "flex": null,
            "flex_flow": null,
            "grid_area": null,
            "grid_auto_columns": null,
            "grid_auto_flow": null,
            "grid_auto_rows": null,
            "grid_column": null,
            "grid_gap": null,
            "grid_row": null,
            "grid_template_areas": null,
            "grid_template_columns": null,
            "grid_template_rows": null,
            "height": null,
            "justify_content": null,
            "justify_items": null,
            "left": null,
            "margin": null,
            "max_height": null,
            "max_width": null,
            "min_height": null,
            "min_width": null,
            "object_fit": null,
            "object_position": null,
            "order": null,
            "overflow": null,
            "overflow_x": null,
            "overflow_y": null,
            "padding": null,
            "right": null,
            "top": null,
            "visibility": null,
            "width": null
          }
        },
        "845407d0b98e4b4faa78234597e3739d": {
          "model_module": "@jupyter-widgets/controls",
          "model_name": "DescriptionStyleModel",
          "model_module_version": "1.5.0",
          "state": {
            "_model_module": "@jupyter-widgets/controls",
            "_model_module_version": "1.5.0",
            "_model_name": "DescriptionStyleModel",
            "_view_count": null,
            "_view_module": "@jupyter-widgets/base",
            "_view_module_version": "1.2.0",
            "_view_name": "StyleView",
            "description_width": ""
          }
        },
        "847fea89b50a4148858a8f67af5385d0": {
          "model_module": "@jupyter-widgets/controls",
          "model_name": "HBoxModel",
          "model_module_version": "1.5.0",
          "state": {
            "_dom_classes": [],
            "_model_module": "@jupyter-widgets/controls",
            "_model_module_version": "1.5.0",
            "_model_name": "HBoxModel",
            "_view_count": null,
            "_view_module": "@jupyter-widgets/controls",
            "_view_module_version": "1.5.0",
            "_view_name": "HBoxView",
            "box_style": "",
            "children": [
              "IPY_MODEL_79bc9cc7a94a4bc2b5e39da4d58fe005",
              "IPY_MODEL_8b2a75b0479a46d8a6a66406cdabe952",
              "IPY_MODEL_1eb6b6fc6d1f4239b16a47210ba549d8"
            ],
            "layout": "IPY_MODEL_e53c626a21144d549a5ce81c591b698d"
          }
        },
        "79bc9cc7a94a4bc2b5e39da4d58fe005": {
          "model_module": "@jupyter-widgets/controls",
          "model_name": "HTMLModel",
          "model_module_version": "1.5.0",
          "state": {
            "_dom_classes": [],
            "_model_module": "@jupyter-widgets/controls",
            "_model_module_version": "1.5.0",
            "_model_name": "HTMLModel",
            "_view_count": null,
            "_view_module": "@jupyter-widgets/controls",
            "_view_module_version": "1.5.0",
            "_view_name": "HTMLView",
            "description": "",
            "description_tooltip": null,
            "layout": "IPY_MODEL_f5bcc85068cc44e5aaee89e416a8ccf9",
            "placeholder": "​",
            "style": "IPY_MODEL_93ea5e04bf51488ca37a5f64e7c242fc",
            "value": "Dl Size...: 100%"
          }
        },
        "8b2a75b0479a46d8a6a66406cdabe952": {
          "model_module": "@jupyter-widgets/controls",
          "model_name": "FloatProgressModel",
          "model_module_version": "1.5.0",
          "state": {
            "_dom_classes": [],
            "_model_module": "@jupyter-widgets/controls",
            "_model_module_version": "1.5.0",
            "_model_name": "FloatProgressModel",
            "_view_count": null,
            "_view_module": "@jupyter-widgets/controls",
            "_view_module_version": "1.5.0",
            "_view_name": "ProgressView",
            "bar_style": "info",
            "description": "",
            "description_tooltip": null,
            "layout": "IPY_MODEL_1078577ee8b7470e9b03c48fcafb4388",
            "max": 1,
            "min": 0,
            "orientation": "horizontal",
            "style": "IPY_MODEL_fcee361328424da8992a90f6ff109df2",
            "value": 1
          }
        },
        "1eb6b6fc6d1f4239b16a47210ba549d8": {
          "model_module": "@jupyter-widgets/controls",
          "model_name": "HTMLModel",
          "model_module_version": "1.5.0",
          "state": {
            "_dom_classes": [],
            "_model_module": "@jupyter-widgets/controls",
            "_model_module_version": "1.5.0",
            "_model_name": "HTMLModel",
            "_view_count": null,
            "_view_module": "@jupyter-widgets/controls",
            "_view_module_version": "1.5.0",
            "_view_name": "HTMLView",
            "description": "",
            "description_tooltip": null,
            "layout": "IPY_MODEL_90e29cf1d0504477a9418c1bb42d1f55",
            "placeholder": "​",
            "style": "IPY_MODEL_5c02b85f51f6488aadd6f107058db3be",
            "value": " 4764/4764 [09:29&lt;00:00, 18.41 MiB/s]"
          }
        },
        "e53c626a21144d549a5ce81c591b698d": {
          "model_module": "@jupyter-widgets/base",
          "model_name": "LayoutModel",
          "model_module_version": "1.2.0",
          "state": {
            "_model_module": "@jupyter-widgets/base",
            "_model_module_version": "1.2.0",
            "_model_name": "LayoutModel",
            "_view_count": null,
            "_view_module": "@jupyter-widgets/base",
            "_view_module_version": "1.2.0",
            "_view_name": "LayoutView",
            "align_content": null,
            "align_items": null,
            "align_self": null,
            "border": null,
            "bottom": null,
            "display": null,
            "flex": null,
            "flex_flow": null,
            "grid_area": null,
            "grid_auto_columns": null,
            "grid_auto_flow": null,
            "grid_auto_rows": null,
            "grid_column": null,
            "grid_gap": null,
            "grid_row": null,
            "grid_template_areas": null,
            "grid_template_columns": null,
            "grid_template_rows": null,
            "height": null,
            "justify_content": null,
            "justify_items": null,
            "left": null,
            "margin": null,
            "max_height": null,
            "max_width": null,
            "min_height": null,
            "min_width": null,
            "object_fit": null,
            "object_position": null,
            "order": null,
            "overflow": null,
            "overflow_x": null,
            "overflow_y": null,
            "padding": null,
            "right": null,
            "top": null,
            "visibility": null,
            "width": null
          }
        },
        "f5bcc85068cc44e5aaee89e416a8ccf9": {
          "model_module": "@jupyter-widgets/base",
          "model_name": "LayoutModel",
          "model_module_version": "1.2.0",
          "state": {
            "_model_module": "@jupyter-widgets/base",
            "_model_module_version": "1.2.0",
            "_model_name": "LayoutModel",
            "_view_count": null,
            "_view_module": "@jupyter-widgets/base",
            "_view_module_version": "1.2.0",
            "_view_name": "LayoutView",
            "align_content": null,
            "align_items": null,
            "align_self": null,
            "border": null,
            "bottom": null,
            "display": null,
            "flex": null,
            "flex_flow": null,
            "grid_area": null,
            "grid_auto_columns": null,
            "grid_auto_flow": null,
            "grid_auto_rows": null,
            "grid_column": null,
            "grid_gap": null,
            "grid_row": null,
            "grid_template_areas": null,
            "grid_template_columns": null,
            "grid_template_rows": null,
            "height": null,
            "justify_content": null,
            "justify_items": null,
            "left": null,
            "margin": null,
            "max_height": null,
            "max_width": null,
            "min_height": null,
            "min_width": null,
            "object_fit": null,
            "object_position": null,
            "order": null,
            "overflow": null,
            "overflow_x": null,
            "overflow_y": null,
            "padding": null,
            "right": null,
            "top": null,
            "visibility": null,
            "width": null
          }
        },
        "93ea5e04bf51488ca37a5f64e7c242fc": {
          "model_module": "@jupyter-widgets/controls",
          "model_name": "DescriptionStyleModel",
          "model_module_version": "1.5.0",
          "state": {
            "_model_module": "@jupyter-widgets/controls",
            "_model_module_version": "1.5.0",
            "_model_name": "DescriptionStyleModel",
            "_view_count": null,
            "_view_module": "@jupyter-widgets/base",
            "_view_module_version": "1.2.0",
            "_view_name": "StyleView",
            "description_width": ""
          }
        },
        "1078577ee8b7470e9b03c48fcafb4388": {
          "model_module": "@jupyter-widgets/base",
          "model_name": "LayoutModel",
          "model_module_version": "1.2.0",
          "state": {
            "_model_module": "@jupyter-widgets/base",
            "_model_module_version": "1.2.0",
            "_model_name": "LayoutModel",
            "_view_count": null,
            "_view_module": "@jupyter-widgets/base",
            "_view_module_version": "1.2.0",
            "_view_name": "LayoutView",
            "align_content": null,
            "align_items": null,
            "align_self": null,
            "border": null,
            "bottom": null,
            "display": null,
            "flex": null,
            "flex_flow": null,
            "grid_area": null,
            "grid_auto_columns": null,
            "grid_auto_flow": null,
            "grid_auto_rows": null,
            "grid_column": null,
            "grid_gap": null,
            "grid_row": null,
            "grid_template_areas": null,
            "grid_template_columns": null,
            "grid_template_rows": null,
            "height": null,
            "justify_content": null,
            "justify_items": null,
            "left": null,
            "margin": null,
            "max_height": null,
            "max_width": null,
            "min_height": null,
            "min_width": null,
            "object_fit": null,
            "object_position": null,
            "order": null,
            "overflow": null,
            "overflow_x": null,
            "overflow_y": null,
            "padding": null,
            "right": null,
            "top": null,
            "visibility": null,
            "width": "20px"
          }
        },
        "fcee361328424da8992a90f6ff109df2": {
          "model_module": "@jupyter-widgets/controls",
          "model_name": "ProgressStyleModel",
          "model_module_version": "1.5.0",
          "state": {
            "_model_module": "@jupyter-widgets/controls",
            "_model_module_version": "1.5.0",
            "_model_name": "ProgressStyleModel",
            "_view_count": null,
            "_view_module": "@jupyter-widgets/base",
            "_view_module_version": "1.2.0",
            "_view_name": "StyleView",
            "bar_color": null,
            "description_width": ""
          }
        },
        "90e29cf1d0504477a9418c1bb42d1f55": {
          "model_module": "@jupyter-widgets/base",
          "model_name": "LayoutModel",
          "model_module_version": "1.2.0",
          "state": {
            "_model_module": "@jupyter-widgets/base",
            "_model_module_version": "1.2.0",
            "_model_name": "LayoutModel",
            "_view_count": null,
            "_view_module": "@jupyter-widgets/base",
            "_view_module_version": "1.2.0",
            "_view_name": "LayoutView",
            "align_content": null,
            "align_items": null,
            "align_self": null,
            "border": null,
            "bottom": null,
            "display": null,
            "flex": null,
            "flex_flow": null,
            "grid_area": null,
            "grid_auto_columns": null,
            "grid_auto_flow": null,
            "grid_auto_rows": null,
            "grid_column": null,
            "grid_gap": null,
            "grid_row": null,
            "grid_template_areas": null,
            "grid_template_columns": null,
            "grid_template_rows": null,
            "height": null,
            "justify_content": null,
            "justify_items": null,
            "left": null,
            "margin": null,
            "max_height": null,
            "max_width": null,
            "min_height": null,
            "min_width": null,
            "object_fit": null,
            "object_position": null,
            "order": null,
            "overflow": null,
            "overflow_x": null,
            "overflow_y": null,
            "padding": null,
            "right": null,
            "top": null,
            "visibility": null,
            "width": null
          }
        },
        "5c02b85f51f6488aadd6f107058db3be": {
          "model_module": "@jupyter-widgets/controls",
          "model_name": "DescriptionStyleModel",
          "model_module_version": "1.5.0",
          "state": {
            "_model_module": "@jupyter-widgets/controls",
            "_model_module_version": "1.5.0",
            "_model_name": "DescriptionStyleModel",
            "_view_count": null,
            "_view_module": "@jupyter-widgets/base",
            "_view_module_version": "1.2.0",
            "_view_name": "StyleView",
            "description_width": ""
          }
        },
        "40204d98f8d34dbb92b45db5849e23ed": {
          "model_module": "@jupyter-widgets/controls",
          "model_name": "HBoxModel",
          "model_module_version": "1.5.0",
          "state": {
            "_dom_classes": [],
            "_model_module": "@jupyter-widgets/controls",
            "_model_module_version": "1.5.0",
            "_model_name": "HBoxModel",
            "_view_count": null,
            "_view_module": "@jupyter-widgets/controls",
            "_view_module_version": "1.5.0",
            "_view_name": "HBoxView",
            "box_style": "",
            "children": [
              "IPY_MODEL_59e25d8f4e6e4105bccddbc046c9a7a6",
              "IPY_MODEL_8e10c61ecdc1432bb59dddc5b8a5d81d",
              "IPY_MODEL_1d7c81c610ec47c59177f3a1373697d5"
            ],
            "layout": "IPY_MODEL_6522011e7ec04243a14015f43c822150"
          }
        },
        "59e25d8f4e6e4105bccddbc046c9a7a6": {
          "model_module": "@jupyter-widgets/controls",
          "model_name": "HTMLModel",
          "model_module_version": "1.5.0",
          "state": {
            "_dom_classes": [],
            "_model_module": "@jupyter-widgets/controls",
            "_model_module_version": "1.5.0",
            "_model_name": "HTMLModel",
            "_view_count": null,
            "_view_module": "@jupyter-widgets/controls",
            "_view_module_version": "1.5.0",
            "_view_name": "HTMLView",
            "description": "",
            "description_tooltip": null,
            "layout": "IPY_MODEL_3de573a1048f4187ad367c3f2b8b4a64",
            "placeholder": "​",
            "style": "IPY_MODEL_86c1d41185704e8598f209f5ae4228dc",
            "value": "Extraction completed...:  56%"
          }
        },
        "8e10c61ecdc1432bb59dddc5b8a5d81d": {
          "model_module": "@jupyter-widgets/controls",
          "model_name": "FloatProgressModel",
          "model_module_version": "1.5.0",
          "state": {
            "_dom_classes": [],
            "_model_module": "@jupyter-widgets/controls",
            "_model_module_version": "1.5.0",
            "_model_name": "FloatProgressModel",
            "_view_count": null,
            "_view_module": "@jupyter-widgets/controls",
            "_view_module_version": "1.5.0",
            "_view_name": "ProgressView",
            "bar_style": "info",
            "description": "",
            "description_tooltip": null,
            "layout": "IPY_MODEL_68eb101c13ca4a8f8afd7fb05da83583",
            "max": 1,
            "min": 0,
            "orientation": "horizontal",
            "style": "IPY_MODEL_e252e43614b847a8a704d986c2a56b35",
            "value": 1
          }
        },
        "1d7c81c610ec47c59177f3a1373697d5": {
          "model_module": "@jupyter-widgets/controls",
          "model_name": "HTMLModel",
          "model_module_version": "1.5.0",
          "state": {
            "_dom_classes": [],
            "_model_module": "@jupyter-widgets/controls",
            "_model_module_version": "1.5.0",
            "_model_name": "HTMLModel",
            "_view_count": null,
            "_view_module": "@jupyter-widgets/controls",
            "_view_module_version": "1.5.0",
            "_view_name": "HTMLView",
            "description": "",
            "description_tooltip": null,
            "layout": "IPY_MODEL_d6ce137c93d647679d02dac3242fcdbd",
            "placeholder": "​",
            "style": "IPY_MODEL_7014948294aa463c8ce10e7df9023cea",
            "value": " 56376/101008 [09:29&lt;00:49, 896.91 file/s]"
          }
        },
        "6522011e7ec04243a14015f43c822150": {
          "model_module": "@jupyter-widgets/base",
          "model_name": "LayoutModel",
          "model_module_version": "1.2.0",
          "state": {
            "_model_module": "@jupyter-widgets/base",
            "_model_module_version": "1.2.0",
            "_model_name": "LayoutModel",
            "_view_count": null,
            "_view_module": "@jupyter-widgets/base",
            "_view_module_version": "1.2.0",
            "_view_name": "LayoutView",
            "align_content": null,
            "align_items": null,
            "align_self": null,
            "border": null,
            "bottom": null,
            "display": null,
            "flex": null,
            "flex_flow": null,
            "grid_area": null,
            "grid_auto_columns": null,
            "grid_auto_flow": null,
            "grid_auto_rows": null,
            "grid_column": null,
            "grid_gap": null,
            "grid_row": null,
            "grid_template_areas": null,
            "grid_template_columns": null,
            "grid_template_rows": null,
            "height": null,
            "justify_content": null,
            "justify_items": null,
            "left": null,
            "margin": null,
            "max_height": null,
            "max_width": null,
            "min_height": null,
            "min_width": null,
            "object_fit": null,
            "object_position": null,
            "order": null,
            "overflow": null,
            "overflow_x": null,
            "overflow_y": null,
            "padding": null,
            "right": null,
            "top": null,
            "visibility": null,
            "width": null
          }
        },
        "3de573a1048f4187ad367c3f2b8b4a64": {
          "model_module": "@jupyter-widgets/base",
          "model_name": "LayoutModel",
          "model_module_version": "1.2.0",
          "state": {
            "_model_module": "@jupyter-widgets/base",
            "_model_module_version": "1.2.0",
            "_model_name": "LayoutModel",
            "_view_count": null,
            "_view_module": "@jupyter-widgets/base",
            "_view_module_version": "1.2.0",
            "_view_name": "LayoutView",
            "align_content": null,
            "align_items": null,
            "align_self": null,
            "border": null,
            "bottom": null,
            "display": null,
            "flex": null,
            "flex_flow": null,
            "grid_area": null,
            "grid_auto_columns": null,
            "grid_auto_flow": null,
            "grid_auto_rows": null,
            "grid_column": null,
            "grid_gap": null,
            "grid_row": null,
            "grid_template_areas": null,
            "grid_template_columns": null,
            "grid_template_rows": null,
            "height": null,
            "justify_content": null,
            "justify_items": null,
            "left": null,
            "margin": null,
            "max_height": null,
            "max_width": null,
            "min_height": null,
            "min_width": null,
            "object_fit": null,
            "object_position": null,
            "order": null,
            "overflow": null,
            "overflow_x": null,
            "overflow_y": null,
            "padding": null,
            "right": null,
            "top": null,
            "visibility": null,
            "width": null
          }
        },
        "86c1d41185704e8598f209f5ae4228dc": {
          "model_module": "@jupyter-widgets/controls",
          "model_name": "DescriptionStyleModel",
          "model_module_version": "1.5.0",
          "state": {
            "_model_module": "@jupyter-widgets/controls",
            "_model_module_version": "1.5.0",
            "_model_name": "DescriptionStyleModel",
            "_view_count": null,
            "_view_module": "@jupyter-widgets/base",
            "_view_module_version": "1.2.0",
            "_view_name": "StyleView",
            "description_width": ""
          }
        },
        "68eb101c13ca4a8f8afd7fb05da83583": {
          "model_module": "@jupyter-widgets/base",
          "model_name": "LayoutModel",
          "model_module_version": "1.2.0",
          "state": {
            "_model_module": "@jupyter-widgets/base",
            "_model_module_version": "1.2.0",
            "_model_name": "LayoutModel",
            "_view_count": null,
            "_view_module": "@jupyter-widgets/base",
            "_view_module_version": "1.2.0",
            "_view_name": "LayoutView",
            "align_content": null,
            "align_items": null,
            "align_self": null,
            "border": null,
            "bottom": null,
            "display": null,
            "flex": null,
            "flex_flow": null,
            "grid_area": null,
            "grid_auto_columns": null,
            "grid_auto_flow": null,
            "grid_auto_rows": null,
            "grid_column": null,
            "grid_gap": null,
            "grid_row": null,
            "grid_template_areas": null,
            "grid_template_columns": null,
            "grid_template_rows": null,
            "height": null,
            "justify_content": null,
            "justify_items": null,
            "left": null,
            "margin": null,
            "max_height": null,
            "max_width": null,
            "min_height": null,
            "min_width": null,
            "object_fit": null,
            "object_position": null,
            "order": null,
            "overflow": null,
            "overflow_x": null,
            "overflow_y": null,
            "padding": null,
            "right": null,
            "top": null,
            "visibility": null,
            "width": "20px"
          }
        },
        "e252e43614b847a8a704d986c2a56b35": {
          "model_module": "@jupyter-widgets/controls",
          "model_name": "ProgressStyleModel",
          "model_module_version": "1.5.0",
          "state": {
            "_model_module": "@jupyter-widgets/controls",
            "_model_module_version": "1.5.0",
            "_model_name": "ProgressStyleModel",
            "_view_count": null,
            "_view_module": "@jupyter-widgets/base",
            "_view_module_version": "1.2.0",
            "_view_name": "StyleView",
            "bar_color": null,
            "description_width": ""
          }
        },
        "d6ce137c93d647679d02dac3242fcdbd": {
          "model_module": "@jupyter-widgets/base",
          "model_name": "LayoutModel",
          "model_module_version": "1.2.0",
          "state": {
            "_model_module": "@jupyter-widgets/base",
            "_model_module_version": "1.2.0",
            "_model_name": "LayoutModel",
            "_view_count": null,
            "_view_module": "@jupyter-widgets/base",
            "_view_module_version": "1.2.0",
            "_view_name": "LayoutView",
            "align_content": null,
            "align_items": null,
            "align_self": null,
            "border": null,
            "bottom": null,
            "display": null,
            "flex": null,
            "flex_flow": null,
            "grid_area": null,
            "grid_auto_columns": null,
            "grid_auto_flow": null,
            "grid_auto_rows": null,
            "grid_column": null,
            "grid_gap": null,
            "grid_row": null,
            "grid_template_areas": null,
            "grid_template_columns": null,
            "grid_template_rows": null,
            "height": null,
            "justify_content": null,
            "justify_items": null,
            "left": null,
            "margin": null,
            "max_height": null,
            "max_width": null,
            "min_height": null,
            "min_width": null,
            "object_fit": null,
            "object_position": null,
            "order": null,
            "overflow": null,
            "overflow_x": null,
            "overflow_y": null,
            "padding": null,
            "right": null,
            "top": null,
            "visibility": null,
            "width": null
          }
        },
        "7014948294aa463c8ce10e7df9023cea": {
          "model_module": "@jupyter-widgets/controls",
          "model_name": "DescriptionStyleModel",
          "model_module_version": "1.5.0",
          "state": {
            "_model_module": "@jupyter-widgets/controls",
            "_model_module_version": "1.5.0",
            "_model_name": "DescriptionStyleModel",
            "_view_count": null,
            "_view_module": "@jupyter-widgets/base",
            "_view_module_version": "1.2.0",
            "_view_name": "StyleView",
            "description_width": ""
          }
        }
      }
    }
  },
  "nbformat": 4,
  "nbformat_minor": 5
}