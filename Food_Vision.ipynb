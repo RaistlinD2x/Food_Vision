{
 "cells": [
  {
   "cell_type": "markdown",
   "id": "c89b095a-c2f8-43e0-a0bf-30e2e1b9b912",
   "metadata": {
    "id": "c89b095a-c2f8-43e0-a0bf-30e2e1b9b912"
   },
   "source": [
    "# Project 1: Food Vision Big"
   ]
  },
  {
   "cell_type": "markdown",
   "id": "2e77ffb3-1cc2-4e1a-999c-e93ec1dedac0",
   "metadata": {
    "id": "2e77ffb3-1cc2-4e1a-999c-e93ec1dedac0"
   },
   "source": [
    "## Check GPU for Mixed Precision Training Capability\n",
    "\n",
    "> The author of this notebook is utilizing Amazon Sagemaker, specifically a P3 instance with a V100 GPU. For Mixed Precision Training to work, the GPU you're running must have a 'Compute Capability' of 7.0 or higher. That information can be found here for NVIDIA: https://developer.nvidia.com/cuda-gpus#compute"
   ]
  },
  {
   "cell_type": "code",
   "execution_count": 1,
   "id": "655bc243-242c-499b-94fe-deffaac04089",
   "metadata": {
    "colab": {
     "base_uri": "https://localhost:8080/"
    },
    "id": "655bc243-242c-499b-94fe-deffaac04089",
    "outputId": "7fb4cfaf-8efd-4136-9e98-d39c93d80a8e"
   },
   "outputs": [
    {
     "name": "stdout",
     "output_type": "stream",
     "text": [
      "GPU 0: Tesla V100-SXM2-16GB (UUID: GPU-816103ee-04c7-29f1-b755-75af5ee4363a)\n"
     ]
    }
   ],
   "source": [
    "# Check which GPU you're using\n",
    "!nvidia-smi -L"
   ]
  },
  {
   "cell_type": "markdown",
   "id": "9f767a10-a3f5-410b-a014-2afac8c0d216",
   "metadata": {
    "id": "9f767a10-a3f5-410b-a014-2afac8c0d216"
   },
   "source": [
    "## Get helper functions\n",
    "\n",
    "This `helper_functions.py` is from other works. We can download it from here: https://raw.githubusercontent.com/mrdbourke/tensorflow-deep-learning/main/extras/helper_functions.py"
   ]
  },
  {
   "cell_type": "code",
   "execution_count": 2,
   "id": "7f2fb0ce-bf01-4c38-b7e0-73d148ed404d",
   "metadata": {
    "colab": {
     "base_uri": "https://localhost:8080/"
    },
    "id": "7f2fb0ce-bf01-4c38-b7e0-73d148ed404d",
    "outputId": "83924bb3-0358-48c3-e0dd-a0e25f7f6c24"
   },
   "outputs": [
    {
     "name": "stdout",
     "output_type": "stream",
     "text": [
      "[INFO] 'helper_functions.py' exists, skipping download.\n"
     ]
    }
   ],
   "source": [
    "# Download helper_functions.py if it does not exist\n",
    "import os\n",
    "if not os.path.exists(\"helper_functions.py\"):\n",
    "  !wget https://raw.githubusercontent.com/mrdbourke/tensorflow-deep-learning/main/extras/helper_functions.py\n",
    "else:\n",
    "  print(\"[INFO] 'helper_functions.py' exists, skipping download.\")"
   ]
  },
  {
   "cell_type": "code",
   "execution_count": 3,
   "id": "61c45773-e8b8-4904-b537-88c7e683c368",
   "metadata": {
    "id": "61c45773-e8b8-4904-b537-88c7e683c368"
   },
   "outputs": [
    {
     "name": "stderr",
     "output_type": "stream",
     "text": [
      "2023-01-19 16:15:07.066120: E tensorflow/stream_executor/cuda/cuda_blas.cc:2981] Unable to register cuBLAS factory: Attempting to register factory for plugin cuBLAS when one has already been registered\n"
     ]
    }
   ],
   "source": [
    "from helper_functions import create_tensorboard_callback, plot_loss_curves, compare_historys"
   ]
  },
  {
   "cell_type": "markdown",
   "id": "c72dba20-5cfb-4826-adff-5c3892dbd0e9",
   "metadata": {
    "id": "c72dba20-5cfb-4826-adff-5c3892dbd0e9"
   },
   "source": [
    "## Use TensorFlow Datasets to Download Data\n",
    "\n",
    "[Guide and datasets list here.](https://www.tensorflow.org/datasets)"
   ]
  },
  {
   "cell_type": "code",
   "execution_count": 4,
   "id": "1f87ec63-7ede-4db1-adb9-e6941ff9196e",
   "metadata": {},
   "outputs": [
    {
     "name": "stdout",
     "output_type": "stream",
     "text": [
      "Looking in indexes: https://pypi.org/simple, https://pip.repos.neuron.amazonaws.com\n",
      "Collecting tensorflow-datasets\n",
      "  Downloading tensorflow_datasets-4.8.2-py3-none-any.whl (5.3 MB)\n",
      "\u001b[2K     \u001b[90m━━━━━━━━━━━━━━━━━━━━━━━━━━━━━━━━━━━━━━━━\u001b[0m \u001b[32m5.3/5.3 MB\u001b[0m \u001b[31m35.5 MB/s\u001b[0m eta \u001b[36m0:00:00\u001b[0m:00:01\u001b[0m00:01\u001b[0m\n",
      "\u001b[?25hRequirement already satisfied: numpy in /home/ec2-user/anaconda3/envs/tensorflow2_p310/lib/python3.10/site-packages (from tensorflow-datasets) (1.21.6)\n",
      "Collecting promise\n",
      "  Downloading promise-2.3.tar.gz (19 kB)\n",
      "  Preparing metadata (setup.py) ... \u001b[?25ldone\n",
      "\u001b[?25hRequirement already satisfied: termcolor in /home/ec2-user/anaconda3/envs/tensorflow2_p310/lib/python3.10/site-packages (from tensorflow-datasets) (2.1.0)\n",
      "Requirement already satisfied: absl-py in /home/ec2-user/anaconda3/envs/tensorflow2_p310/lib/python3.10/site-packages (from tensorflow-datasets) (1.3.0)\n",
      "Requirement already satisfied: protobuf>=3.12.2 in /home/ec2-user/anaconda3/envs/tensorflow2_p310/lib/python3.10/site-packages (from tensorflow-datasets) (3.19.6)\n",
      "Collecting etils[enp,epath]>=0.9.0\n",
      "  Downloading etils-1.0.0-py3-none-any.whl (146 kB)\n",
      "\u001b[2K     \u001b[90m━━━━━━━━━━━━━━━━━━━━━━━━━━━━━━━━━━━━━━━\u001b[0m \u001b[32m146.5/146.5 kB\u001b[0m \u001b[31m4.5 MB/s\u001b[0m eta \u001b[36m0:00:00\u001b[0m\n",
      "\u001b[?25hRequirement already satisfied: psutil in /home/ec2-user/anaconda3/envs/tensorflow2_p310/lib/python3.10/site-packages (from tensorflow-datasets) (5.9.3)\n",
      "Collecting tensorflow-metadata\n",
      "  Downloading tensorflow_metadata-1.12.0-py3-none-any.whl (52 kB)\n",
      "\u001b[2K     \u001b[90m━━━━━━━━━━━━━━━━━━━━━━━━━━━━━━━━━━━━━━━━\u001b[0m \u001b[32m52.3/52.3 kB\u001b[0m \u001b[31m1.1 MB/s\u001b[0m eta \u001b[36m0:00:00\u001b[0m:00:01\u001b[0m\n",
      "\u001b[?25hRequirement already satisfied: tqdm in /home/ec2-user/anaconda3/envs/tensorflow2_p310/lib/python3.10/site-packages (from tensorflow-datasets) (4.63.2)\n",
      "Requirement already satisfied: toml in /home/ec2-user/anaconda3/envs/tensorflow2_p310/lib/python3.10/site-packages (from tensorflow-datasets) (0.10.2)\n",
      "Requirement already satisfied: wrapt in /home/ec2-user/anaconda3/envs/tensorflow2_p310/lib/python3.10/site-packages (from tensorflow-datasets) (1.14.1)\n",
      "Requirement already satisfied: requests>=2.19.0 in /home/ec2-user/anaconda3/envs/tensorflow2_p310/lib/python3.10/site-packages (from tensorflow-datasets) (2.28.1)\n",
      "Requirement already satisfied: dill in /home/ec2-user/anaconda3/envs/tensorflow2_p310/lib/python3.10/site-packages (from tensorflow-datasets) (0.3.6)\n",
      "Collecting dm-tree\n",
      "  Downloading dm_tree-0.1.8-cp310-cp310-manylinux_2_17_x86_64.manylinux2014_x86_64.whl (152 kB)\n",
      "\u001b[2K     \u001b[90m━━━━━━━━━━━━━━━━━━━━━━━━━━━━━━━━━━━━━━━\u001b[0m \u001b[32m152.8/152.8 kB\u001b[0m \u001b[31m5.4 MB/s\u001b[0m eta \u001b[36m0:00:00\u001b[0m\n",
      "\u001b[?25hRequirement already satisfied: click in /home/ec2-user/anaconda3/envs/tensorflow2_p310/lib/python3.10/site-packages (from tensorflow-datasets) (8.1.3)\n",
      "Requirement already satisfied: importlib_resources in /home/ec2-user/anaconda3/envs/tensorflow2_p310/lib/python3.10/site-packages (from etils[enp,epath]>=0.9.0->tensorflow-datasets) (5.10.0)\n",
      "Requirement already satisfied: typing_extensions in /home/ec2-user/anaconda3/envs/tensorflow2_p310/lib/python3.10/site-packages (from etils[enp,epath]>=0.9.0->tensorflow-datasets) (4.4.0)\n",
      "Requirement already satisfied: zipp in /home/ec2-user/anaconda3/envs/tensorflow2_p310/lib/python3.10/site-packages (from etils[enp,epath]>=0.9.0->tensorflow-datasets) (3.10.0)\n",
      "Requirement already satisfied: certifi>=2017.4.17 in /home/ec2-user/anaconda3/envs/tensorflow2_p310/lib/python3.10/site-packages (from requests>=2.19.0->tensorflow-datasets) (2022.9.24)\n",
      "Requirement already satisfied: charset-normalizer<3,>=2 in /home/ec2-user/anaconda3/envs/tensorflow2_p310/lib/python3.10/site-packages (from requests>=2.19.0->tensorflow-datasets) (2.1.1)\n",
      "Requirement already satisfied: idna<4,>=2.5 in /home/ec2-user/anaconda3/envs/tensorflow2_p310/lib/python3.10/site-packages (from requests>=2.19.0->tensorflow-datasets) (3.4)\n",
      "Requirement already satisfied: urllib3<1.27,>=1.21.1 in /home/ec2-user/anaconda3/envs/tensorflow2_p310/lib/python3.10/site-packages (from requests>=2.19.0->tensorflow-datasets) (1.26.8)\n",
      "Requirement already satisfied: six in /home/ec2-user/anaconda3/envs/tensorflow2_p310/lib/python3.10/site-packages (from promise->tensorflow-datasets) (1.16.0)\n",
      "Collecting googleapis-common-protos<2,>=1.52.0\n",
      "  Downloading googleapis_common_protos-1.58.0-py2.py3-none-any.whl (223 kB)\n",
      "\u001b[2K     \u001b[90m━━━━━━━━━━━━━━━━━━━━━━━━━━━━━━━━━━━━━━\u001b[0m \u001b[32m223.0/223.0 kB\u001b[0m \u001b[31m46.9 MB/s\u001b[0m eta \u001b[36m0:00:00\u001b[0m\n",
      "\u001b[?25hBuilding wheels for collected packages: promise\n",
      "  Building wheel for promise (setup.py) ... \u001b[?25ldone\n",
      "\u001b[?25h  Created wheel for promise: filename=promise-2.3-py3-none-any.whl size=21486 sha256=fe1b8affee6ee8260e670515d539c58ed01ec5bfecc9dbb7164f8adbae37aebb\n",
      "  Stored in directory: /home/ec2-user/.cache/pip/wheels/76/40/54/417a4d64a01b61b247658d83597e1dc83c3de01fc0cef44972\n",
      "Successfully built promise\n",
      "Installing collected packages: dm-tree, promise, googleapis-common-protos, etils, tensorflow-metadata, tensorflow-datasets\n",
      "Successfully installed dm-tree-0.1.8 etils-1.0.0 googleapis-common-protos-1.58.0 promise-2.3 tensorflow-datasets-4.8.2 tensorflow-metadata-1.12.0\n",
      "Note: you may need to restart the kernel to use updated packages.\n"
     ]
    }
   ],
   "source": [
    "# Get packages\n",
    "%pip install tensorflow-datasets"
   ]
  },
  {
   "cell_type": "code",
   "execution_count": 5,
   "id": "c1bd8d19-d676-4c62-b599-9f3bf9bc1f2e",
   "metadata": {
    "id": "c1bd8d19-d676-4c62-b599-9f3bf9bc1f2e"
   },
   "outputs": [],
   "source": [
    "# Import TensorFlow Datasets\n",
    "import tensorflow_datasets as tfds"
   ]
  },
  {
   "cell_type": "code",
   "execution_count": 6,
   "id": "1fd61971-9d32-453f-9ea9-81b65b6af9a0",
   "metadata": {
    "id": "1fd61971-9d32-453f-9ea9-81b65b6af9a0"
   },
   "outputs": [],
   "source": [
    "# turn off check for Google authentication for the public bucket these datasets reside in\n",
    "tfds.core.utils.gcs_utils._is_gcs_disabled = True\n",
    "os.environ['NO_GCE_CHECK'] = 'true'\n",
    "\n",
    "# List all available datasets\n",
    "datasets_list = tfds.list_builders() # get all available in TFDS\n",
    "\n",
    "# Check if food101 is in the list\n",
    "# print(\"food101\" in datasets_list)"
   ]
  },
  {
   "cell_type": "code",
   "execution_count": 7,
   "id": "75293396-92fb-4a42-b55d-de954e972ee2",
   "metadata": {
    "colab": {
     "base_uri": "https://localhost:8080/",
     "height": 130,
     "referenced_widgets": [
      "50a78f21dc7a4dcaa2ed42b3cf41ce15",
      "85cabbf7c9494781b2dd85a0ea6300ce",
      "daf1d735f75c4a5d9131da851c3c8a1a",
      "d52293a7483c4719b9a3f6c829cc4a41",
      "5d7f16af1dab4c19a3165886ae0f73c9",
      "a5d95299836b43608a9e702c436c8599",
      "c533bb0840b44bf8945c9d3c7db04361",
      "8f20fa9016b44700be8057e78ace69da",
      "b63129d6c4b44bd19a02374b0cdc0567",
      "5694918de8c7403bbc0671cf43c2bc2d",
      "845407d0b98e4b4faa78234597e3739d",
      "847fea89b50a4148858a8f67af5385d0",
      "79bc9cc7a94a4bc2b5e39da4d58fe005",
      "8b2a75b0479a46d8a6a66406cdabe952",
      "1eb6b6fc6d1f4239b16a47210ba549d8",
      "e53c626a21144d549a5ce81c591b698d",
      "f5bcc85068cc44e5aaee89e416a8ccf9",
      "93ea5e04bf51488ca37a5f64e7c242fc",
      "1078577ee8b7470e9b03c48fcafb4388",
      "fcee361328424da8992a90f6ff109df2",
      "90e29cf1d0504477a9418c1bb42d1f55",
      "5c02b85f51f6488aadd6f107058db3be",
      "40204d98f8d34dbb92b45db5849e23ed",
      "59e25d8f4e6e4105bccddbc046c9a7a6",
      "8e10c61ecdc1432bb59dddc5b8a5d81d",
      "1d7c81c610ec47c59177f3a1373697d5",
      "6522011e7ec04243a14015f43c822150",
      "3de573a1048f4187ad367c3f2b8b4a64",
      "86c1d41185704e8598f209f5ae4228dc",
      "68eb101c13ca4a8f8afd7fb05da83583",
      "e252e43614b847a8a704d986c2a56b35",
      "d6ce137c93d647679d02dac3242fcdbd",
      "7014948294aa463c8ce10e7df9023cea"
     ]
    },
    "id": "75293396-92fb-4a42-b55d-de954e972ee2",
    "outputId": "523692cd-6e77-434d-9ed5-f34fe586ed46"
   },
   "outputs": [
    {
     "name": "stdout",
     "output_type": "stream",
     "text": [
      "Downloading and preparing dataset Unknown size (download: Unknown size, generated: Unknown size, total: Unknown size) to /home/ec2-user/tensorflow_datasets/food101/2.0.0...\n"
     ]
    },
    {
     "data": {
      "application/json": {
       "ascii": false,
       "bar_format": null,
       "colour": null,
       "elapsed": 0.024342060089111328,
       "initial": 0,
       "n": 0,
       "ncols": null,
       "nrows": null,
       "postfix": null,
       "prefix": "Dl Completed...",
       "rate": null,
       "total": 0,
       "unit": " url",
       "unit_divisor": 1000,
       "unit_scale": false
      },
      "application/vnd.jupyter.widget-view+json": {
       "model_id": "acf834f6c738471e808e60f960a5fded",
       "version_major": 2,
       "version_minor": 0
      },
      "text/plain": [
       "Dl Completed...: 0 url [00:00, ? url/s]"
      ]
     },
     "metadata": {},
     "output_type": "display_data"
    },
    {
     "data": {
      "application/json": {
       "ascii": false,
       "bar_format": null,
       "colour": null,
       "elapsed": 0.020641803741455078,
       "initial": 0,
       "n": 0,
       "ncols": null,
       "nrows": null,
       "postfix": null,
       "prefix": "Dl Size...",
       "rate": null,
       "total": 0,
       "unit": " MiB",
       "unit_divisor": 1000,
       "unit_scale": false
      },
      "application/vnd.jupyter.widget-view+json": {
       "model_id": "2665fa320a064679b12ee90f68351215",
       "version_major": 2,
       "version_minor": 0
      },
      "text/plain": [
       "Dl Size...: 0 MiB [00:00, ? MiB/s]"
      ]
     },
     "metadata": {},
     "output_type": "display_data"
    },
    {
     "data": {
      "application/json": {
       "ascii": false,
       "bar_format": null,
       "colour": null,
       "elapsed": 0.019154787063598633,
       "initial": 0,
       "n": 0,
       "ncols": null,
       "nrows": null,
       "postfix": null,
       "prefix": "Extraction completed...",
       "rate": null,
       "total": 0,
       "unit": " file",
       "unit_divisor": 1000,
       "unit_scale": false
      },
      "application/vnd.jupyter.widget-view+json": {
       "model_id": "4983b5d4c3ac4a8598966a4c1f87e8f8",
       "version_major": 2,
       "version_minor": 0
      },
      "text/plain": [
       "Extraction completed...: 0 file [00:00, ? file/s]"
      ]
     },
     "metadata": {},
     "output_type": "display_data"
    },
    {
     "data": {
      "application/json": {
       "ascii": false,
       "bar_format": null,
       "colour": null,
       "elapsed": 0.017656803131103516,
       "initial": 0,
       "n": 0,
       "ncols": null,
       "nrows": null,
       "postfix": null,
       "prefix": "Shuffling /home/ec2-user/tensorflow_datasets/food101/2.0.0.incomplete1714QE/food101-train.tfrecord*...",
       "rate": null,
       "total": 75750,
       "unit": " examples",
       "unit_divisor": 1000,
       "unit_scale": false
      },
      "application/vnd.jupyter.widget-view+json": {
       "model_id": "8cd8571bc30f4bc28e46532586b1fa1d",
       "version_major": 2,
       "version_minor": 0
      },
      "text/plain": [
       "Shuffling /home/ec2-user/tensorflow_datasets/food101/2.0.0.incomplete1714QE/food101-train.tfrecord*...:   0%| …"
      ]
     },
     "metadata": {},
     "output_type": "display_data"
    },
    {
     "data": {
      "application/json": {
       "ascii": false,
       "bar_format": null,
       "colour": null,
       "elapsed": 0.018479108810424805,
       "initial": 0,
       "n": 0,
       "ncols": null,
       "nrows": null,
       "postfix": null,
       "prefix": "Generating validation examples...",
       "rate": null,
       "total": null,
       "unit": " examples",
       "unit_divisor": 1000,
       "unit_scale": false
      },
      "application/vnd.jupyter.widget-view+json": {
       "model_id": "59483df24967435fba366d887f8b7fb3",
       "version_major": 2,
       "version_minor": 0
      },
      "text/plain": [
       "Generating validation examples...: 0 examples [00:00, ? examples/s]"
      ]
     },
     "metadata": {},
     "output_type": "display_data"
    },
    {
     "data": {
      "application/json": {
       "ascii": false,
       "bar_format": null,
       "colour": null,
       "elapsed": 0.01854252815246582,
       "initial": 0,
       "n": 0,
       "ncols": null,
       "nrows": null,
       "postfix": null,
       "prefix": "Shuffling /home/ec2-user/tensorflow_datasets/food101/2.0.0.incomplete1714QE/food101-validation.tfrecord*...",
       "rate": null,
       "total": 25250,
       "unit": " examples",
       "unit_divisor": 1000,
       "unit_scale": false
      },
      "application/vnd.jupyter.widget-view+json": {
       "model_id": "45698733bfb0448ea666b0faf9b1a487",
       "version_major": 2,
       "version_minor": 0
      },
      "text/plain": [
       "Shuffling /home/ec2-user/tensorflow_datasets/food101/2.0.0.incomplete1714QE/food101-validation.tfrecord*...:  …"
      ]
     },
     "metadata": {},
     "output_type": "display_data"
    },
    {
     "name": "stdout",
     "output_type": "stream",
     "text": [
      "Dataset food101 downloaded and prepared to /home/ec2-user/tensorflow_datasets/food101/2.0.0. Subsequent calls will reuse this data.\n"
     ]
    }
   ],
   "source": [
    "# # Load in the Food101 data (this can take a few minutes, 5GB)\n",
    "(train_data, test_data), ds_info = tfds.load(name=\"food101\",\n",
    "                                            split=[\"train\", \"validation\"], # each data set is potentially different, some have train, valid, test\n",
    "                                            shuffle_files=True,\n",
    "                                            as_supervised=True, # data gets returns in tuple format (data, label)\n",
    "                                            with_info=True) # this provides the data back to the ds_info variable"
   ]
  },
  {
   "cell_type": "code",
   "execution_count": 8,
   "id": "0b4619ee-512a-429e-8ea3-dd5aa7271d33",
   "metadata": {
    "id": "0b4619ee-512a-429e-8ea3-dd5aa7271d33"
   },
   "outputs": [
    {
     "data": {
      "text/plain": [
       "FeaturesDict({\n",
       "    'image': Image(shape=(None, None, 3), dtype=uint8),\n",
       "    'label': ClassLabel(shape=(), dtype=int64, num_classes=101),\n",
       "})"
      ]
     },
     "execution_count": 8,
     "metadata": {},
     "output_type": "execute_result"
    }
   ],
   "source": [
    "# Features of Food101 from TFDS\n",
    "ds_info.features"
   ]
  },
  {
   "cell_type": "code",
   "execution_count": 9,
   "id": "e5e04099-126a-49b0-990a-a35d7ea84d09",
   "metadata": {
    "id": "e5e04099-126a-49b0-990a-a35d7ea84d09"
   },
   "outputs": [
    {
     "data": {
      "text/plain": [
       "['apple_pie',\n",
       " 'baby_back_ribs',\n",
       " 'baklava',\n",
       " 'beef_carpaccio',\n",
       " 'beef_tartare',\n",
       " 'beet_salad',\n",
       " 'beignets',\n",
       " 'bibimbap',\n",
       " 'bread_pudding',\n",
       " 'breakfast_burrito']"
      ]
     },
     "execution_count": 9,
     "metadata": {},
     "output_type": "execute_result"
    }
   ],
   "source": [
    "# Get class names\n",
    "class_names = ds_info.features[\"label\"].names\n",
    "class_names[:10]"
   ]
  },
  {
   "cell_type": "markdown",
   "id": "4f0c692d-732a-44c0-97a9-095970aea4da",
   "metadata": {
    "id": "4f0c692d-732a-44c0-97a9-095970aea4da"
   },
   "source": [
    "## Exploring Food101 data from TFDS\n",
    "\n",
    "We need to find:\n",
    "* Class names\n",
    "* Shape of image tensors\n",
    "* Datatype of the data\n",
    "* What do labels look like (one-hot vs label encoded)\n",
    "* Do the labels match up with the class_names?"
   ]
  },
  {
   "cell_type": "code",
   "execution_count": 10,
   "id": "e3df0aa0-8251-4744-9db0-9689fcdbf2fc",
   "metadata": {
    "id": "e3df0aa0-8251-4744-9db0-9689fcdbf2fc"
   },
   "outputs": [],
   "source": [
    "# Take one sample of the train data\n",
    "train_one_sample = train_data.take(1) # samples are in format (image_tensor, label)"
   ]
  },
  {
   "cell_type": "code",
   "execution_count": 11,
   "id": "e26bac8f-c03e-4083-a52e-93fcef17cb70",
   "metadata": {
    "id": "e26bac8f-c03e-4083-a52e-93fcef17cb70"
   },
   "outputs": [
    {
     "data": {
      "text/plain": [
       "<TakeDataset element_spec=(TensorSpec(shape=(None, None, 3), dtype=tf.uint8, name=None), TensorSpec(shape=(), dtype=tf.int64, name=None))>"
      ]
     },
     "execution_count": 11,
     "metadata": {},
     "output_type": "execute_result"
    }
   ],
   "source": [
    "# What does one sample of our training data look like?\n",
    "train_one_sample"
   ]
  },
  {
   "cell_type": "code",
   "execution_count": 12,
   "id": "3fcfee93-d12d-4661-af3b-474f72b810be",
   "metadata": {
    "id": "3fcfee93-d12d-4661-af3b-474f72b810be"
   },
   "outputs": [
    {
     "name": "stdout",
     "output_type": "stream",
     "text": [
      "\n",
      "    Image Shape: (512, 512, 3),\n",
      "    Image datatype: <dtype: 'uint8'>,\n",
      "    Target class from Food101 (tensor form): 21\n",
      "    Class name (str form): chocolate_cake\n",
      "    \n"
     ]
    }
   ],
   "source": [
    "# Output info about the training sample\n",
    "for image, label in train_one_sample:\n",
    "    print(f\"\"\"\n",
    "    Image Shape: {image.shape},\n",
    "    Image datatype: {image.dtype},\n",
    "    Target class from Food101 (tensor form): {label}\n",
    "    Class name (str form): {class_names[label.numpy()]}\n",
    "    \"\"\")"
   ]
  },
  {
   "cell_type": "code",
   "execution_count": 13,
   "id": "5658349b-7d9e-4d9c-ac7b-9358e3fc8351",
   "metadata": {
    "id": "5658349b-7d9e-4d9c-ac7b-9358e3fc8351"
   },
   "outputs": [
    {
     "data": {
      "text/plain": [
       "<tf.Tensor: shape=(512, 512, 3), dtype=uint8, numpy=\n",
       "array([[[ 32,  14,   0],\n",
       "        [ 31,  13,   0],\n",
       "        [ 28,  12,   0],\n",
       "        ...,\n",
       "        [ 54,  34,  10],\n",
       "        [ 53,  33,   9],\n",
       "        [ 51,  31,   7]],\n",
       "\n",
       "       [[ 28,  10,   0],\n",
       "        [ 28,  10,   0],\n",
       "        [ 27,  11,   0],\n",
       "        ...,\n",
       "        [ 56,  36,  12],\n",
       "        [ 55,  35,  11],\n",
       "        [ 54,  34,   9]],\n",
       "\n",
       "       [[ 30,  12,   0],\n",
       "        [ 31,  13,   0],\n",
       "        [ 31,  15,   0],\n",
       "        ...,\n",
       "        [ 58,  38,  13],\n",
       "        [ 58,  38,  13],\n",
       "        [ 58,  38,  11]],\n",
       "\n",
       "       ...,\n",
       "\n",
       "       [[135,  80,   0],\n",
       "        [136,  81,   1],\n",
       "        [137,  82,   2],\n",
       "        ...,\n",
       "        [ 13,   6,   0],\n",
       "        [ 13,   6,   0],\n",
       "        [ 13,   6,   0]],\n",
       "\n",
       "       [[137,  82,   2],\n",
       "        [137,  82,   2],\n",
       "        [137,  82,   2],\n",
       "        ...,\n",
       "        [ 13,   6,   0],\n",
       "        [ 13,   6,   0],\n",
       "        [ 13,   6,   0]],\n",
       "\n",
       "       [[136,  81,   1],\n",
       "        [135,  80,   0],\n",
       "        [135,  80,   0],\n",
       "        ...,\n",
       "        [ 14,   7,   1],\n",
       "        [ 14,   7,   1],\n",
       "        [ 14,   7,   1]]], dtype=uint8)>"
      ]
     },
     "execution_count": 13,
     "metadata": {},
     "output_type": "execute_result"
    }
   ],
   "source": [
    "# What does our image tensor from TFDS Food101 look like?\n",
    "image"
   ]
  },
  {
   "cell_type": "code",
   "execution_count": 14,
   "id": "73165fe3-0762-4199-99b0-d20a214809a9",
   "metadata": {
    "id": "73165fe3-0762-4199-99b0-d20a214809a9"
   },
   "outputs": [
    {
     "data": {
      "text/plain": [
       "(<tf.Tensor: shape=(), dtype=uint8, numpy=0>,\n",
       " <tf.Tensor: shape=(), dtype=uint8, numpy=255>)"
      ]
     },
     "execution_count": 14,
     "metadata": {},
     "output_type": "execute_result"
    }
   ],
   "source": [
    "# What are the min and max values of our image tensor? RGB 0-255, need to normalize\n",
    "import tensorflow as tf\n",
    "tf.reduce_min(image), tf.reduce_max(image)"
   ]
  },
  {
   "cell_type": "markdown",
   "id": "0c0a4d7f-c14b-47f8-bbf1-c94c824033f5",
   "metadata": {
    "id": "0c0a4d7f-c14b-47f8-bbf1-c94c824033f5"
   },
   "source": [
    "### Plot an image from TensorFlow Datasets"
   ]
  },
  {
   "cell_type": "code",
   "execution_count": 15,
   "id": "376933f2-1050-4e38-8491-1aa195f976ca",
   "metadata": {
    "id": "376933f2-1050-4e38-8491-1aa195f976ca"
   },
   "outputs": [
    {
     "data": {
      "text/plain": [
       "(-0.5, 511.5, 511.5, -0.5)"
      ]
     },
     "execution_count": 15,
     "metadata": {},
     "output_type": "execute_result"
    },
    {
     "data": {
      "image/png": "[encoded data removed]",
      "text/plain": [
       "<Figure size 640x480 with 1 Axes>"
      ]
     },
     "metadata": {},
     "output_type": "display_data"
    }
   ],
   "source": [
    "# Plot an image tensor\n",
    "import matplotlib.pyplot as plt\n",
    "plt.imshow(image)\n",
    "plt.title(class_names[label.numpy()]) # add title to image to verify label is matched to training data correctly\n",
    "plt.axis(False)"
   ]
  },
  {
   "cell_type": "markdown",
   "id": "bf6027f2-9986-457f-86a2-777e64e282bb",
   "metadata": {
    "id": "bf6027f2-9986-457f-86a2-777e64e282bb"
   },
   "source": [
    "## Create preprocessing functions for our data\n",
    "\n",
    "Neural Networks perform best when data is prepared in a certain way (e.g., batched, normalized, etc.)\n",
    "\n",
    "What we know about our data:\n",
    "* In `uint8` datatype\n",
    "* Comprised of various sized tensors\n",
    "* Not scaled (pixels are RGB values)\n",
    "\n",
    "What models like:\n",
    "* Data in `float32` or mixed precision `float16` and `float32`\n",
    "* For batches, TensorFlow likes all of the tensors within a batch to be of the same size (typically 32)\n",
    "* Scaled (values between 0 & 1), also called normalization\n",
    "\n",
    "EfficientNetBX pretrained model will be used from `tf.keras.applications.efficientnet`, these models have a layer for rescaling built in.\n",
    "\n",
    "This means our functions need to:\n",
    "1. Reshape our images to all the same size\n",
    "2. Convert the dtype of our image tensors from `uint8` to `float32`"
   ]
  },
  {
   "cell_type": "code",
   "execution_count": 16,
   "id": "d75c02da-e3b2-4818-bf61-1233f267a380",
   "metadata": {
    "id": "d75c02da-e3b2-4818-bf61-1233f267a380"
   },
   "outputs": [],
   "source": [
    "# Make function for preprocessing images\n",
    "def preprocess_img(image, label, img_shape=224):\n",
    "    \"\"\"\n",
    "    Converts image datatype form 'uint8' -> 'float32' and reshapes\n",
    "    image to [img_shape, img_shape, color_channels]\n",
    "    \"\"\"\n",
    "    image = tf.image.resize(image, [img_shape, img_shape]) # reshape target image\n",
    "    # image = image / 255. # scales image values, however, this is not required for EfficientNetBX models from tf.keras.applications.efficientnet as a normalization/scaling layer exists\n",
    "    return tf.cast(image, tf.float32), label # return (float32_image, label) tuple"
   ]
  },
  {
   "cell_type": "code",
   "execution_count": 17,
   "id": "04d06409-a122-4c05-8276-5da3b4bd336a",
   "metadata": {
    "id": "04d06409-a122-4c05-8276-5da3b4bd336a"
   },
   "outputs": [
    {
     "name": "stdout",
     "output_type": "stream",
     "text": [
      "Image before preprocessing:\n",
      " [[[32 14  0]\n",
      "  [31 13  0]\n",
      "  [28 12  0]\n",
      "  ...\n",
      "  [54 34 10]\n",
      "  [53 33  9]\n",
      "  [51 31  7]]\n",
      "\n",
      " [[28 10  0]\n",
      "  [28 10  0]\n",
      "  [27 11  0]\n",
      "  ...\n",
      "  [56 36 12]\n",
      "  [55 35 11]\n",
      "  [54 34  9]]]..., \n",
      "Shape: (512, 512, 3), \n",
      "Datatype: <dtype: 'uint8'>\n",
      "Image after preprocessing:\n",
      " [[[29.19898    11.198979    0.        ]\n",
      "  [28.285715   12.285714    0.        ]\n",
      "  [30.852041   15.494898    0.28061217]\n",
      "  ...\n",
      "  [52.9336     32.505074    8.7193365 ]\n",
      "  [54.025528   34.025528   10.025528  ]\n",
      "  [53.800972   33.800972    9.571359  ]]\n",
      "\n",
      " [[33.09694    15.096939    1.193878  ]\n",
      "  [33.785713   17.785715    2.785715  ]\n",
      "  [31.785713   16.428572    1.2142859 ]\n",
      "  ...\n",
      "  [63.60206    42.530632   15.346998  ]\n",
      "  [61.647934   40.7857     13.928558  ]\n",
      "  [60.785713   41.714287   12.020403  ]]]..., \n",
      "Shape: (224, 224, 3), \n",
      "Datatype: <dtype: 'float32'>\n"
     ]
    }
   ],
   "source": [
    "# preprocess a single sample image and check outputs\n",
    "preprocessed_img = preprocess_img(image, label)[0]\n",
    "print(f\"Image before preprocessing:\\n {image[:2]}..., \\nShape: {image.shape}, \\nDatatype: {image.dtype}\")\n",
    "print(f\"Image after preprocessing:\\n {preprocessed_img[:2]}..., \\nShape: {preprocessed_img.shape}, \\nDatatype: {preprocessed_img.dtype}\")"
   ]
  },
  {
   "cell_type": "markdown",
   "id": "b11ff508-61f4-42f5-a529-6d42e224a553",
   "metadata": {
    "id": "b11ff508-61f4-42f5-a529-6d42e224a553"
   },
   "source": [
    "## Batch & Prepare datasets\n",
    "\n",
    "Create a performant data input pipeline.\n",
    "\n",
    "As a resource, the [tf.data API](https://www.tensorflow.org/guide/data) as well as [TesorFlow pipeline optimizations](https://www.tensorflow.org/guide/data_performance)."
   ]
  },
  {
   "cell_type": "code",
   "execution_count": 18,
   "id": "3bc8aed4-8c8a-4d3d-86ef-4fd12003b6ef",
   "metadata": {
    "id": "3bc8aed4-8c8a-4d3d-86ef-4fd12003b6ef"
   },
   "outputs": [],
   "source": [
    "# Map preprocessing function to training data (and parallelize)\n",
    "train_data = train_data.map(map_func=preprocess_img, num_parallel_calls=tf.data.AUTOTUNE)\n",
    "\n",
    "# Shuffle train_data and turn it into batches and prefect it (load it faster). buffer_size limits shuffling to limit RAM overload\n",
    "train_data = train_data.shuffle(buffer_size=1000).batch(batch_size=32).prefetch(buffer_size=tf.data.AUTOTUNE)\n",
    "\n",
    "# Map preprocessing function to test data\n",
    "test_data = test_data.map(preprocess_img, num_parallel_calls=tf.data.AUTOTUNE).batch(32).prefetch(tf.data.AUTOTUNE)"
   ]
  },
  {
   "cell_type": "code",
   "execution_count": 19,
   "id": "cc43dafa-7f8e-4bf3-a769-ae5991a9e0a2",
   "metadata": {
    "id": "cc43dafa-7f8e-4bf3-a769-ae5991a9e0a2"
   },
   "outputs": [
    {
     "data": {
      "text/plain": [
       "(<PrefetchDataset element_spec=(TensorSpec(shape=(None, 224, 224, 3), dtype=tf.float32, name=None), TensorSpec(shape=(None,), dtype=tf.int64, name=None))>,\n",
       " <PrefetchDataset element_spec=(TensorSpec(shape=(None, 224, 224, 3), dtype=tf.float32, name=None), TensorSpec(shape=(None,), dtype=tf.int64, name=None))>)"
      ]
     },
     "execution_count": 19,
     "metadata": {},
     "output_type": "execute_result"
    }
   ],
   "source": [
    "train_data, test_data"
   ]
  },
  {
   "cell_type": "markdown",
   "id": "91f28af3-e9c8-4e85-96d0-c5403309864b",
   "metadata": {
    "id": "91f28af3-e9c8-4e85-96d0-c5403309864b"
   },
   "source": [
    "> The above cells maps this preprocessing function (`preprocess_img`) across our training dataset, then shuffle a number of elements, then we'll batch a collection of 32. Finally we'll prepare batches via 'prefetch' while the model is training on the previous batch."
   ]
  },
  {
   "cell_type": "markdown",
   "id": "46a42891-0984-4258-bef1-49cc13508ad1",
   "metadata": {
    "id": "46a42891-0984-4258-bef1-49cc13508ad1"
   },
   "source": [
    "## Create modeling callback\n",
    "\n",
    "Callbacks to create:\n",
    "* Tensorboard callback to log training results for visualization\n",
    "* ModelCheckpoint callback to save our model's progress after feature extraction"
   ]
  },
  {
   "cell_type": "code",
   "execution_count": 36,
   "id": "3a80087f-36aa-4bc8-8cc1-ff7876028338",
   "metadata": {
    "id": "3a80087f-36aa-4bc8-8cc1-ff7876028338"
   },
   "outputs": [],
   "source": [
    "# Create TensorBoard callback (import from helper_functions.py)\n",
    "from helper_functions import create_tensorboard_callback\n",
    "\n",
    "# Create ModelCheckpoint callback to save a model's progress during training\n",
    "checkpoint_path = \"model_checkpoints/cp.ckpt\"\n",
    "model_checkpoint = tf.keras.callbacks.ModelCheckpoint(checkpoint_path,\n",
    "                                                      monitor=\"val_accuracy\",\n",
    "                                                      save_best_only=True,\n",
    "                                                      save_weights_only=True,\n",
    "                                                      verbose=2) # don't print to stdout"
   ]
  },
  {
   "cell_type": "markdown",
   "id": "3c4f2c39-c6f9-4742-9c70-32592a2b3082",
   "metadata": {
    "id": "3c4f2c39-c6f9-4742-9c70-32592a2b3082"
   },
   "source": [
    "## Setup mixed precision training\n",
    "\n",
    "[Mixed Precision Documentation](https://www.tensorflow.org/guide/mixed_precision)\n",
    "\n",
    "Mixed precision utilized a mix of float16 and float32 to improve RAM usage and speed up processes."
   ]
  },
  {
   "cell_type": "code",
   "execution_count": 21,
   "id": "6c2a98b9-9e8a-4a45-97b1-aaa72a5a85e0",
   "metadata": {
    "id": "6c2a98b9-9e8a-4a45-97b1-aaa72a5a85e0"
   },
   "outputs": [
    {
     "name": "stdout",
     "output_type": "stream",
     "text": [
      "INFO:tensorflow:Mixed precision compatibility check (mixed_float16): OK\n",
      "Your GPU will likely run quickly with dtype policy mixed_float16 as it has compute capability of at least 7.0. Your GPU: Tesla V100-SXM2-16GB, compute capability 7.0\n"
     ]
    },
    {
     "name": "stderr",
     "output_type": "stream",
     "text": [
      "INFO:tensorflow:Mixed precision compatibility check (mixed_float16): OK\n",
      "Your GPU will likely run quickly with dtype policy mixed_float16 as it has compute capability of at least 7.0. Your GPU: Tesla V100-SXM2-16GB, compute capability 7.0\n"
     ]
    }
   ],
   "source": [
    "# Turn on mixed precision training\n",
    "from tensorflow.keras import mixed_precision\n",
    "# mixed precision is broken for EfficientNetB0 in TensorFlow, disabling\n",
    "mixed_precision.set_global_policy(\"mixed_float16\") # set global data policy to mixed precision"
   ]
  },
  {
   "cell_type": "markdown",
   "id": "e28b5627-b8da-4f56-be78-86854351c14a",
   "metadata": {
    "id": "e28b5627-b8da-4f56-be78-86854351c14a"
   },
   "source": [
    "## Build feature extraction model"
   ]
  },
  {
   "cell_type": "code",
   "execution_count": 68,
   "id": "TB4jD4Z_NaNk",
   "metadata": {
    "id": "TB4jD4Z_NaNk"
   },
   "outputs": [],
   "source": [
    "from tensorflow.keras import layers\n",
    "# preprocessing not needed for EfficientNetB0\n",
    "from tensorflow.keras.layers.experimental import preprocessing\n",
    "\n",
    "# API was expecting input data in theanos format, this changes it to TensorFlow format\n",
    "from keras import backend as K\n",
    "K.set_image_data_format('channels_last')\n",
    "\n",
    "# Create base model\n",
    "input_shape = (224,224,3)\n",
    "base_model = tf.keras.applications.efficientnet.EfficientNetB0(include_top=False) # tf.keras.applications.EfficientNetB0 is the old API call, if you use this with 2.10 it will fail. Updated to efficientnet.EfficientNetB0 and all is well\n",
    "base_model.trainable = False\n",
    "\n",
    "# Create functional model\n",
    "inputs = layers.Input(shape=input_shape, name=\"input_layer\")\n",
    "# Note: EfficientNetBX models have scaling layer built in, otherwise use below\n",
    "# x = preprocessing.Rescaling(1./255) # 255 represents 0-255 for RGB values on pictures\n",
    "x = base_model(inputs, training=False) # makes sure layers are in inference mode\n",
    "x = layers.GlobalAveragePooling2D()(x)\n",
    "x = layers.Dense(len(class_names))(x) # not using activation function here, we'll separate so we can convert to float32\n",
    "outputs = layers.Activation(\"softmax\", dtype=tf.float32, name=\"softmax_float32\")(x)\n",
    "model = tf.keras.Model(inputs, outputs)\n",
    "\n",
    "# compile the model\n",
    "model.compile(loss=\"sparse_categorical_crossentropy\",\n",
    "              optimizer=tf.keras.optimizers.Adam(),\n",
    "              metrics=[\"accuracy\"])\n",
    "\n"
   ]
  },
  {
   "cell_type": "markdown",
   "id": "-y_6iP1MQBzg",
   "metadata": {
    "id": "-y_6iP1MQBzg"
   },
   "source": [
    "## Setup Mixed Precision Training \n",
    "\n",
    "> To get mixed precision to work the new API must be used, tf.keras.applications.efficientnet.EfficientNetB0 as opposed to tf.keras.applications.EfficientNetB0"
   ]
  },
  {
   "cell_type": "code",
   "execution_count": 29,
   "id": "Y3jXzl9vQMqw",
   "metadata": {
    "id": "Y3jXzl9vQMqw"
   },
   "outputs": [
    {
     "name": "stdout",
     "output_type": "stream",
     "text": [
      "Model: \"model_1\"\n",
      "_________________________________________________________________\n",
      " Layer (type)                Output Shape              Param #   \n",
      "=================================================================\n",
      " input_layer (InputLayer)    [(None, 224, 224, 3)]     0         \n",
      "                                                                 \n",
      " efficientnetb0 (Functional)  (None, None, None, 1280)  4049571  \n",
      "                                                                 \n",
      " global_average_pooling2d_1   (None, 1280)             0         \n",
      " (GlobalAveragePooling2D)                                        \n",
      "                                                                 \n",
      " dense (Dense)               (None, 101)               129381    \n",
      "                                                                 \n",
      " softmax_float32 (Activation  (None, 101)              0         \n",
      " )                                                               \n",
      "                                                                 \n",
      "=================================================================\n",
      "Total params: 4,178,952\n",
      "Trainable params: 129,381\n",
      "Non-trainable params: 4,049,571\n",
      "_________________________________________________________________\n"
     ]
    }
   ],
   "source": [
    "model.summary()"
   ]
  },
  {
   "cell_type": "markdown",
   "id": "eeSyJOvKTfgs",
   "metadata": {
    "id": "eeSyJOvKTfgs"
   },
   "source": [
    "## Checking layer dtype policies (checking if we're using mixed precision)"
   ]
  },
  {
   "cell_type": "code",
   "execution_count": 30,
   "id": "4SfHOpw5T4NT",
   "metadata": {
    "id": "4SfHOpw5T4NT"
   },
   "outputs": [
    {
     "name": "stdout",
     "output_type": "stream",
     "text": [
      "input_layer True float32 <Policy \"float32\">\n",
      "efficientnetb0 False float32 <Policy \"mixed_float16\">\n",
      "global_average_pooling2d_1 True float32 <Policy \"mixed_float16\">\n",
      "dense True float32 <Policy \"mixed_float16\">\n",
      "softmax_float32 True float32 <Policy \"float32\">\n"
     ]
    }
   ],
   "source": [
    "# Check the dtype_policy attributes of the layers in the model\n",
    "for layer in model.layers:\n",
    "  print(layer.name, layer.trainable, layer.dtype, layer.dtype_policy)\n",
    "\n",
    "# This is all float32 as mixed precision isn't currently functional for EfficientNetB0 in current TensorFlow version 2.9.2"
   ]
  },
  {
   "cell_type": "code",
   "execution_count": 31,
   "id": "asuIfqA_UDR8",
   "metadata": {
    "id": "asuIfqA_UDR8"
   },
   "outputs": [
    {
     "name": "stdout",
     "output_type": "stream",
     "text": [
      "input_2 False float32 <Policy \"float32\">\n",
      "rescaling_2 False float32 <Policy \"mixed_float16\">\n",
      "normalization_1 False float32 <Policy \"mixed_float16\">\n",
      "rescaling_3 False float32 <Policy \"mixed_float16\">\n",
      "stem_conv_pad False float32 <Policy \"mixed_float16\">\n",
      "stem_conv False float32 <Policy \"mixed_float16\">\n",
      "stem_bn False float32 <Policy \"mixed_float16\">\n",
      "stem_activation False float32 <Policy \"mixed_float16\">\n",
      "block1a_dwconv False float32 <Policy \"mixed_float16\">\n",
      "block1a_bn False float32 <Policy \"mixed_float16\">\n",
      "block1a_activation False float32 <Policy \"mixed_float16\">\n",
      "block1a_se_squeeze False float32 <Policy \"mixed_float16\">\n",
      "block1a_se_reshape False float32 <Policy \"mixed_float16\">\n",
      "block1a_se_reduce False float32 <Policy \"mixed_float16\">\n",
      "block1a_se_expand False float32 <Policy \"mixed_float16\">\n",
      "block1a_se_excite False float32 <Policy \"mixed_float16\">\n",
      "block1a_project_conv False float32 <Policy \"mixed_float16\">\n",
      "block1a_project_bn False float32 <Policy \"mixed_float16\">\n",
      "block2a_expand_conv False float32 <Policy \"mixed_float16\">\n",
      "block2a_expand_bn False float32 <Policy \"mixed_float16\">\n"
     ]
    }
   ],
   "source": [
    "# Check the dtype_policy attributes of layers in the base model\n",
    "for layer in model.layers[1].layers[:20]: # checks efficientnetB0 layers\n",
    "  print(layer.name, layer.trainable, layer.dtype, layer.dtype_policy)\n",
    "\n",
    "# again this is only for reference, mixed precision isn't currently working"
   ]
  },
  {
   "cell_type": "markdown",
   "id": "1w1WlQYMVWKb",
   "metadata": {
    "id": "1w1WlQYMVWKb"
   },
   "source": [
    "## Fit the feature extraction model\n",
    "\n",
    "Our goal is to fine-tune a pretrained model, we'll follow the order of:\n",
    "1. Build a feature extraction model (train a couple of output layers with base layers frozen)\n",
    "2. Fine-tune some of the base model layers\n",
    "\n",
    "I'm using 3 epochs to train the top two layers as all layers of EfficientNetB0 are currently frozen.\n",
    "To save time for this experiment I also reduce the validation data to 15%."
   ]
  },
  {
   "cell_type": "code",
   "execution_count": 37,
   "id": "yFqAdDcUW-yR",
   "metadata": {
    "id": "yFqAdDcUW-yR"
   },
   "outputs": [
    {
     "name": "stdout",
     "output_type": "stream",
     "text": [
      "Saving TensorBoard log files to: training_logs/efficientnetb0_101_classes_all_data_feature_extract/20230119-165811\n",
      "WARNING:tensorflow:Model failed to serialize as JSON. Ignoring... Unable to serialize [2.0896919 2.1128857 2.1081853] to JSON. Unrecognized type <class 'tensorflow.python.framework.ops.EagerTensor'>.\n"
     ]
    },
    {
     "name": "stderr",
     "output_type": "stream",
     "text": [
      "WARNING:tensorflow:Model failed to serialize as JSON. Ignoring... Unable to serialize [2.0896919 2.1128857 2.1081853] to JSON. Unrecognized type <class 'tensorflow.python.framework.ops.EagerTensor'>.\n"
     ]
    },
    {
     "name": "stdout",
     "output_type": "stream",
     "text": [
      "Epoch 1/3\n",
      "2366/2368 [============================>.] - ETA: 0s - loss: 0.7860 - accuracy: 0.7917\n",
      "Epoch 1: val_accuracy improved from -inf to 0.73241, saving model to model_checkpoints/cp.ckpt\n",
      "2368/2368 [==============================] - 61s 25ms/step - loss: 0.7860 - accuracy: 0.7917 - val_loss: 0.9764 - val_accuracy: 0.7324\n",
      "Epoch 2/3\n",
      "2367/2368 [============================>.] - ETA: 0s - loss: 0.7460 - accuracy: 0.8029\n",
      "Epoch 2: val_accuracy did not improve from 0.73241\n",
      "2368/2368 [==============================] - 61s 25ms/step - loss: 0.7460 - accuracy: 0.8029 - val_loss: 0.9757 - val_accuracy: 0.7311\n",
      "Epoch 3/3\n",
      "2367/2368 [============================>.] - ETA: 0s - loss: 0.7128 - accuracy: 0.8114\n",
      "Epoch 3: val_accuracy improved from 0.73241 to 0.73556, saving model to model_checkpoints/cp.ckpt\n",
      "2368/2368 [==============================] - 61s 25ms/step - loss: 0.7128 - accuracy: 0.8114 - val_loss: 0.9810 - val_accuracy: 0.7356\n"
     ]
    }
   ],
   "source": [
    "# Fit feature extraction model with callbacks\n",
    "history_101_food_classes_feature_extract = model.fit(train_data,\n",
    "                                                     epochs=3,\n",
    "                                                     steps_per_epoch=(len(train_data)),\n",
    "                                                     validation_data=test_data,\n",
    "                                                     validation_steps=(0.15 * len(test_data)),\n",
    "                                                     callbacks=[create_tensorboard_callback(dir_name=\"training_logs\",\n",
    "                                                                                            experiment_name=\"efficientnetb0_101_classes_all_data_feature_extract\"),\n",
    "                                                                model_checkpoint])"
   ]
  },
  {
   "cell_type": "code",
   "execution_count": 38,
   "id": "swTo2NWgXpw2",
   "metadata": {
    "id": "swTo2NWgXpw2"
   },
   "outputs": [
    {
     "name": "stdout",
     "output_type": "stream",
     "text": [
      "790/790 [==============================] - 15s 19ms/step - loss: 0.9937 - accuracy: 0.7314\n"
     ]
    }
   ],
   "source": [
    "# Evaluate model on whole test dataset\n",
    "results_feature_extract_model = model.evaluate(test_data)"
   ]
  },
  {
   "cell_type": "markdown",
   "id": "7fe6c976-a0db-4578-9d2a-c480e849e8ff",
   "metadata": {
    "id": "IOUoxpLVb09T"
   },
   "source": [
    "### Load anc evaluate checkpoint weights\n",
    "\n",
    "To validate the checkpoint is working I'll clone the model and load the weights.\n",
    "1. Clone model via `tf.keras.models.clone_model()` to make a copy of the feature extraction model with weights reset\n",
    "2. Use the `load_weights()` method to modify the default random weights to match the checkpoint weights\n",
    "3. Use the `evaluate()` method to confirm the same metric results\n",
    "\n",
    "Checkpoints provide me with the ability to revert the model back to the optimal values should subsequent experiments result in subpar values"
   ]
  },
  {
   "cell_type": "code",
   "execution_count": 39,
   "id": "38c8f53b-0fab-43c7-88d5-ed778ebf3509",
   "metadata": {},
   "outputs": [
    {
     "name": "stdout",
     "output_type": "stream",
     "text": [
      "Model: \"model_1\"\n",
      "_________________________________________________________________\n",
      " Layer (type)                Output Shape              Param #   \n",
      "=================================================================\n",
      " input_layer (InputLayer)    [(None, 224, 224, 3)]     0         \n",
      "                                                                 \n",
      " efficientnetb0 (Functional)  (None, None, None, 1280)  4049571  \n",
      "                                                                 \n",
      " global_average_pooling2d_1   (None, 1280)             0         \n",
      " (GlobalAveragePooling2D)                                        \n",
      "                                                                 \n",
      " dense (Dense)               (None, 101)               129381    \n",
      "                                                                 \n",
      " softmax_float32 (Activation  (None, 101)              0         \n",
      " )                                                               \n",
      "                                                                 \n",
      "=================================================================\n",
      "Total params: 4,178,952\n",
      "Trainable params: 129,381\n",
      "Non-trainable params: 4,049,571\n",
      "_________________________________________________________________\n"
     ]
    }
   ],
   "source": [
    "# Clone the model\n",
    "cloned_model = tf.keras.models.clone_model(model)\n",
    "cloned_model.summary()"
   ]
  },
  {
   "cell_type": "code",
   "execution_count": 40,
   "id": "ab19b5fe-abbb-4fb9-a890-caee40513590",
   "metadata": {},
   "outputs": [
    {
     "data": {
      "text/plain": [
       "<tensorflow.python.checkpoint.checkpoint.CheckpointLoadStatus at 0x7f99bf826710>"
      ]
     },
     "execution_count": 40,
     "metadata": {},
     "output_type": "execute_result"
    }
   ],
   "source": [
    "# Load checkpoint weights into cloned_model\n",
    "cloned_model.load_weights(checkpoint_path)"
   ]
  },
  {
   "cell_type": "markdown",
   "id": "15f41bbc-c113-448f-a277-15a3b5a8354f",
   "metadata": {},
   "source": [
    "> When you make a change to the model, including loading in weights from a checkpoint, we have to recompile the model"
   ]
  },
  {
   "cell_type": "code",
   "execution_count": 42,
   "id": "d6a93209-49f3-480c-9fbb-af09ff03dc0a",
   "metadata": {},
   "outputs": [],
   "source": [
    "# compile the cloned_model with the weights of the original model\n",
    "cloned_model.compile(loss=\"sparse_categorical_crossentropy\",\n",
    "                      optimizer=tf.keras.optimizers.Adam(),\n",
    "                      metrics=[\"accuracy\"])"
   ]
  },
  {
   "cell_type": "code",
   "execution_count": 43,
   "id": "2b20ef5b-6de8-4833-96e6-740ce2795d67",
   "metadata": {},
   "outputs": [
    {
     "name": "stdout",
     "output_type": "stream",
     "text": [
      "790/790 [==============================] - 20s 21ms/step - loss: 1.4080 - accuracy: 0.6338\n"
     ]
    }
   ],
   "source": [
    "# Evaluate the model to confirm the results are the same\n",
    "results_cloned_model_with_loaded_weights = cloned_model.evaluate(test_data)"
   ]
  },
  {
   "cell_type": "markdown",
   "id": "c812e989-c3ad-4a1e-a6a7-6cebf1729cd9",
   "metadata": {},
   "source": [
    "### Save the model\n",
    "\n",
    "Using the `save()` method I can save the entire model.\n",
    "\n",
    "Conflicts with `EfficientNetB0` in TensorFlow 2.10 are problematic. Did not try converting to TF 2.9.1, would likely fix the error of being able to use Keras API to save models."
   ]
  },
  {
   "cell_type": "code",
   "execution_count": 94,
   "id": "53bb6923-1d5e-4cab-99ee-09149fda4809",
   "metadata": {},
   "outputs": [],
   "source": [
    "# Define model save directory\n",
    "# model_save_dir = \"saved_models\"\n",
    "\n",
    "# save the model\n",
    "# tf.keras.models.save_model(model, model_save_dir)"
   ]
  },
  {
   "cell_type": "markdown",
   "id": "062cb375-5f20-4a3f-a674-53762f6842aa",
   "metadata": {},
   "source": [
    "I will evaluate that the model saved correctly"
   ]
  },
  {
   "cell_type": "code",
   "execution_count": 95,
   "id": "457b69ad-420b-4667-a59f-41f35c4bc3dd",
   "metadata": {},
   "outputs": [],
   "source": [
    "# load model\n",
    "# loaded_saved_model = tf.keras.models.load_model(model_save_dir)"
   ]
  },
  {
   "cell_type": "code",
   "execution_count": 96,
   "id": "9be5dac5-1def-4a22-9e87-f650824afc25",
   "metadata": {},
   "outputs": [],
   "source": [
    "# evaluate the loaded_saved_model\n",
    "# keras_loaded_saved_model.summary()"
   ]
  },
  {
   "cell_type": "markdown",
   "id": "81d18bac-372f-4969-a536-fa1055d85132",
   "metadata": {},
   "source": [
    "### The save and load api's are broken when used in conjunction with EfficientNet."
   ]
  },
  {
   "cell_type": "markdown",
   "id": "5a480c7e-4c01-44b3-9b85-ddda28ea1614",
   "metadata": {},
   "source": [
    "## Prepare model layers for fine-tuning"
   ]
  },
  {
   "cell_type": "markdown",
   "id": "83d61118-a168-4ad5-aad2-f073d7fce317",
   "metadata": {},
   "source": [
    "Given that I have 10,000 images, fine-tuning frozen layers of the base model will likely provide greater results\n",
    "\n",
    "> The goal of this notebook is to show improvement over the [DeepFood Paper](https://arxiv.org/pdf/1606.05675.pdf), 77.4% top-1 accuracy"
   ]
  },
  {
   "cell_type": "code",
   "execution_count": 70,
   "id": "7e70643e-ec2e-4da5-a0cf-cb7a78ed02c4",
   "metadata": {},
   "outputs": [
    {
     "name": "stdout",
     "output_type": "stream",
     "text": [
      "Model: \"model_2\"\n",
      "_________________________________________________________________\n",
      " Layer (type)                Output Shape              Param #   \n",
      "=================================================================\n",
      " input_layer (InputLayer)    [(None, 224, 224, 3)]     0         \n",
      "                                                                 \n",
      " efficientnetb0 (Functional)  (None, None, None, 1280)  4049571  \n",
      "                                                                 \n",
      " global_average_pooling2d_3   (None, 1280)             0         \n",
      " (GlobalAveragePooling2D)                                        \n",
      "                                                                 \n",
      " dense_1 (Dense)             (None, 101)               129381    \n",
      "                                                                 \n",
      " softmax_float32 (Activation  (None, 101)              0         \n",
      " )                                                               \n",
      "                                                                 \n",
      "=================================================================\n",
      "Total params: 4,178,952\n",
      "Trainable params: 129,381\n",
      "Non-trainable params: 4,049,571\n",
      "_________________________________________________________________\n"
     ]
    }
   ],
   "source": [
    "# check model\n",
    "model.summary()"
   ]
  },
  {
   "cell_type": "code",
   "execution_count": 71,
   "id": "894c6c09-0fc0-48a9-ad00-1151e02de3d2",
   "metadata": {},
   "outputs": [
    {
     "name": "stdout",
     "output_type": "stream",
     "text": [
      "790/790 [==============================] - 18s 19ms/step - loss: 4.7034 - accuracy: 0.0095\n"
     ]
    },
    {
     "data": {
      "text/plain": [
       "[4.703382968902588, 0.0095445541664958]"
      ]
     },
     "execution_count": 71,
     "metadata": {},
     "output_type": "execute_result"
    }
   ],
   "source": [
    "# Check curracy accuracy on test data\n",
    "model.evaluate(test_data)"
   ]
  },
  {
   "cell_type": "code",
   "execution_count": 72,
   "id": "d1acdb91-eca6-4561-b400-1e3d7453c244",
   "metadata": {},
   "outputs": [
    {
     "name": "stdout",
     "output_type": "stream",
     "text": [
      "input_layer float32 <Policy \"float32\">\n",
      "efficientnetb0 float32 <Policy \"mixed_float16\">\n",
      "global_average_pooling2d_3 float32 <Policy \"mixed_float16\">\n",
      "dense_1 float32 <Policy \"mixed_float16\">\n",
      "softmax_float32 float32 <Policy \"float32\">\n"
     ]
    }
   ],
   "source": [
    "# view layers within the model\n",
    "for layer in model.layers:\n",
    "    layer.trainable = True # sets all layers to be trainable\n",
    "    print(layer.name, layer.dtype, layer.dtype_policy) # also checks for mixed precision"
   ]
  },
  {
   "cell_type": "markdown",
   "id": "8baa88bb-1f1a-4f67-9891-f11ca07f1e18",
   "metadata": {},
   "source": [
    "> We can see that index 1, the second layer of this model, is the `base_model` EfficientNetB0 retrieved from `tf.keras.applications.efficientnet.EfficientNetB0`\n",
    "\n",
    "To check the layers of EfficientNetB0, I can access the `layers` of `model.layers[1]`"
   ]
  },
  {
   "cell_type": "code",
   "execution_count": 74,
   "id": "49c3e398-fb4b-4764-aba3-b820636101dd",
   "metadata": {},
   "outputs": [
    {
     "name": "stdout",
     "output_type": "stream",
     "text": [
      "input_6 True float32 <Policy \"float32\">\n",
      "rescaling_12 True float32 <Policy \"mixed_float16\">\n",
      "normalization_5 True float32 <Policy \"mixed_float16\">\n",
      "rescaling_13 True float32 <Policy \"mixed_float16\">\n",
      "stem_conv_pad True float32 <Policy \"mixed_float16\">\n",
      "stem_conv True float32 <Policy \"mixed_float16\">\n",
      "stem_bn True float32 <Policy \"mixed_float16\">\n",
      "stem_activation True float32 <Policy \"mixed_float16\">\n",
      "block1a_dwconv True float32 <Policy \"mixed_float16\">\n",
      "block1a_bn True float32 <Policy \"mixed_float16\">\n",
      "block1a_activation True float32 <Policy \"mixed_float16\">\n",
      "block1a_se_squeeze True float32 <Policy \"mixed_float16\">\n",
      "block1a_se_reshape True float32 <Policy \"mixed_float16\">\n",
      "block1a_se_reduce True float32 <Policy \"mixed_float16\">\n",
      "block1a_se_expand True float32 <Policy \"mixed_float16\">\n",
      "block1a_se_excite True float32 <Policy \"mixed_float16\">\n",
      "block1a_project_conv True float32 <Policy \"mixed_float16\">\n",
      "block1a_project_bn True float32 <Policy \"mixed_float16\">\n",
      "block2a_expand_conv True float32 <Policy \"mixed_float16\">\n",
      "block2a_expand_bn True float32 <Policy \"mixed_float16\">\n"
     ]
    }
   ],
   "source": [
    "for layer in model.layers[1].layers[:20]:\n",
    "    print(layer.name, layer.trainable, layer.dtype, layer.dtype_policy)"
   ]
  },
  {
   "cell_type": "markdown",
   "id": "2b951c58-a838-47c8-848b-a4e397eb0eb6",
   "metadata": {},
   "source": [
    "> I can see that the layers that need to be using mixed precision are the right type and that all layers of the model are currently trainable. Since I have 75000+ images I will leave all layers trainable, otherwise with less data I would modify to only include a portion of the top layers\n",
    "\n",
    "Because training can take a long while, it will be ideal to stop training when improvements cease. As such, I will include an `EarlyStopping` callback function that tracks `val_loss`\n",
    "\n",
    "I will also create the `ReduceLROnPlateaue` callback. This callback will reduce the learning rate by a factor of 5 whent he validation loss is not improving."
   ]
  },
  {
   "cell_type": "code",
   "execution_count": 75,
   "id": "ba915b5a-aa80-4246-9901-ae80665cbedc",
   "metadata": {},
   "outputs": [],
   "source": [
    "# stop training if val_loss doesn't improve in 3 epochs\n",
    "early_stopping = tf.keras.callbacks.EarlyStopping(monitor=\"val_loss\",\n",
    "                                                  patience=3)\n",
    "\n",
    "# Create ModelCheckpoint callback to save the best model during fine-tuning\n",
    "checkpoint_path = \"fine_tune_checkpoints/\"\n",
    "model_checkpoint = tf.keras.callbacks.ModelCheckpoint(checkpoint_path,\n",
    "                                                      save_best_only=True,\n",
    "                                                      monitor=\"val_loss\")"
   ]
  },
  {
   "cell_type": "code",
   "execution_count": 76,
   "id": "fa715d90-0191-4983-bf93-d269a88550ff",
   "metadata": {},
   "outputs": [],
   "source": [
    "# Create learning rate plateaue callback\n",
    "reduce_lr = tf.keras.callbacks.ReduceLROnPlateau(monitor=\"val_loss\",\n",
    "                                                 factor=0.2, # multiply learning rate by 0.2\n",
    "                                                 patience=2,\n",
    "                                                 verbose=1, # prints out when this callback is used\n",
    "                                                 min_lr=1e-7)"
   ]
  },
  {
   "cell_type": "markdown",
   "id": "fd65fbf5-e822-4ba4-955c-96bd94801b73",
   "metadata": {},
   "source": [
    "> Since I am fine-tuning the model I will set the learning rate to a 10 fold reduction over the standard `Adam()` learning rate, from 1e-3 to 1e-4."
   ]
  },
  {
   "cell_type": "code",
   "execution_count": 77,
   "id": "16d92462-ed22-4c06-b1a3-1efdc38dde6e",
   "metadata": {},
   "outputs": [],
   "source": [
    "# compile the model\n",
    "model.compile(loss=\"sparse_categorical_crossentropy\",\n",
    "              optimizer=tf.keras.optimizers.Adam(learning_rate=.0001),\n",
    "              metrics=[\"accuracy\"])"
   ]
  },
  {
   "cell_type": "markdown",
   "id": "e72339b9-9974-4d94-afa0-c6bb0c8a7842",
   "metadata": {},
   "source": [
    "### Fit the model\n",
    "\n",
    "Setting the model to run for 100 epochs with the `EarlyStopping` callback in place. Also implemented mixed-precision to reduce the time it takes per epoch."
   ]
  },
  {
   "cell_type": "code",
   "execution_count": 90,
   "id": "b73cbd32-52f7-4dad-90f8-62e36a8506ed",
   "metadata": {},
   "outputs": [],
   "source": [
    "# %conda list"
   ]
  },
  {
   "cell_type": "code",
   "execution_count": 93,
   "id": "1f533ebc-e979-4aa0-8a3f-e568c8e4aa15",
   "metadata": {},
   "outputs": [],
   "source": [
    "# conflicts with EfficientNetB0 and tensorflow 2.10. Downgrading to 2.9.1 to solve\n",
    "# %conda install tensorflow=2.9.1"
   ]
  },
  {
   "cell_type": "code",
   "execution_count": 92,
   "id": "969f7126-81d2-4593-8a24-c9ebd9320002",
   "metadata": {},
   "outputs": [
    {
     "name": "stdout",
     "output_type": "stream",
     "text": [
      "Saving TensorBoard log files to: training_logs/efficientb0_101_classes_all_data_fine_tuning/20230119-192801\n",
      "WARNING:tensorflow:Model failed to serialize as JSON. Ignoring... Unable to serialize [2.0896919 2.1128857 2.1081853] to JSON. Unrecognized type <class 'tensorflow.python.framework.ops.EagerTensor'>.\n"
     ]
    },
    {
     "name": "stderr",
     "output_type": "stream",
     "text": [
      "WARNING:tensorflow:Model failed to serialize as JSON. Ignoring... Unable to serialize [2.0896919 2.1128857 2.1081853] to JSON. Unrecognized type <class 'tensorflow.python.framework.ops.EagerTensor'>.\n"
     ]
    },
    {
     "name": "stdout",
     "output_type": "stream",
     "text": [
      "Epoch 1/100\n",
      "2368/2368 [==============================] - 172s 72ms/step - loss: 0.1846 - accuracy: 0.9432 - val_loss: 0.8759 - val_accuracy: 0.7963 - lr: 1.0000e-04\n",
      "Epoch 2/100\n",
      "2368/2368 [==============================] - 173s 72ms/step - loss: 0.1294 - accuracy: 0.9596 - val_loss: 0.9727 - val_accuracy: 0.7850 - lr: 1.0000e-04\n",
      "Epoch 3/100\n",
      "2368/2368 [==============================] - ETA: 0s - loss: 0.1010 - accuracy: 0.9669\n",
      "Epoch 3: ReduceLROnPlateau reducing learning rate to 1.9999999494757503e-05.\n",
      "2368/2368 [==============================] - 173s 73ms/step - loss: 0.1010 - accuracy: 0.9669 - val_loss: 1.1076 - val_accuracy: 0.7789 - lr: 1.0000e-04\n",
      "Epoch 4/100\n",
      "2368/2368 [==============================] - 172s 72ms/step - loss: 0.0190 - accuracy: 0.9948 - val_loss: 1.0940 - val_accuracy: 0.8091 - lr: 2.0000e-05\n"
     ]
    }
   ],
   "source": [
    "# Fine-tune all layers\n",
    "history_101_food_classes_all_data_fine_tune = model.fit(train_data,\n",
    "                                                        epochs=100, # max of 100 epochs\n",
    "                                                        steps_per_epoch=len(train_data),\n",
    "                                                        validation_data=test_data,\n",
    "                                                        validation_steps=int(0.15 * len(test_data)), # 15% validation data per epoch\n",
    "                                                        callbacks=[create_tensorboard_callback(\"training_logs\", \"efficientb0_101_classes_all_data_fine_tuning\"), # track the model training logs\n",
    "                                                                   model_checkpoint, # save only the best model during training\n",
    "                                                                   early_stopping,# stop model after X epochs of no improvements\n",
    "                                                                   reduce_lr]) # reduce the learning rate after X epochs of no improvements"
   ]
  },
  {
   "cell_type": "code",
   "execution_count": 100,
   "id": "cc7fb9ed-6aa9-4ec4-be2f-dc24fde790a4",
   "metadata": {},
   "outputs": [],
   "source": [
    "# save model directory\n",
    "# save_model_dir = \"saved_models/\"\n",
    "\n",
    "# save the model after fine-tuning\n",
    "# tf.keras.models.save_model(model, save_model_dir)"
   ]
  },
  {
   "cell_type": "markdown",
   "id": "2f1831de-45db-47ae-9107-57df1aa45de1",
   "metadata": {},
   "source": [
    "> Still broken even when using 2.9.1"
   ]
  },
  {
   "cell_type": "code",
   "execution_count": 102,
   "id": "f166efe8-c8a8-4dba-88a9-b89799aa0e13",
   "metadata": {},
   "outputs": [
    {
     "name": "stdout",
     "output_type": "stream",
     "text": [
      "790/790 [==============================] - 16s 19ms/step - loss: 1.0977 - accuracy: 0.8123\n"
     ]
    },
    {
     "data": {
      "text/plain": [
       "[1.0977178812026978, 0.8122772574424744]"
      ]
     },
     "execution_count": 102,
     "metadata": {},
     "output_type": "execute_result"
    }
   ],
   "source": [
    "# evaluate model\n",
    "model.evaluate(test_data)"
   ]
  },
  {
   "cell_type": "markdown",
   "id": "b9e71463-138a-4259-b6b1-8c42920831f4",
   "metadata": {},
   "source": [
    "> 81.22% evaluation accuracy result. This is ~4% higher than the DeepFood paper results"
   ]
  },
  {
   "cell_type": "code",
   "execution_count": 103,
   "id": "dd46b022-56fc-4890-aec6-650f2a81d4f4",
   "metadata": {},
   "outputs": [
    {
     "data": {
      "image/png": "[encoded data removed]",
      "text/plain": [
       "<Figure size 640x480 with 1 Axes>"
      ]
     },
     "metadata": {},
     "output_type": "display_data"
    },
    {
     "data": {
      "image/png": "[encoded data removed]",
      "text/plain": [
       "<Figure size 640x480 with 1 Axes>"
      ]
     },
     "metadata": {},
     "output_type": "display_data"
    }
   ],
   "source": [
    "# plot loss curves\n",
    "plot_loss_curves(history_101_food_classes_all_data_fine_tune)"
   ]
  },
  {
   "cell_type": "markdown",
   "id": "c76dafb0-0307-4cee-a296-73e66dd05e26",
   "metadata": {},
   "source": [
    "> It would take a long time to see convergence on these models. Modifying the patience value for the `EarlyStopping` callback would likely provide more insights and better performance in the long run."
   ]
  },
  {
   "cell_type": "code",
   "execution_count": null,
   "id": "e76f4fb0-1720-42cb-a075-017ab22fc2f2",
   "metadata": {},
   "outputs": [],
   "source": []
  }
 ],
 "metadata": {
  "accelerator": "GPU",
  "colab": {
   "provenance": []
  },
  "gpuClass": "standard",
  "kernelspec": {
   "display_name": "conda_tensorflow2_p310",
   "language": "python",
   "name": "conda_tensorflow2_p310"
  },
  "language_info": {
   "codemirror_mode": {
    "name": "ipython",
    "version": 3
   },
   "file_extension": ".py",
   "mimetype": "text/x-python",
   "name": "python",
   "nbconvert_exporter": "python",
   "pygments_lexer": "ipython3",
   "version": "3.10.6"
  },
  "widgets": {
   "application/vnd.jupyter.widget-state+json": {
    "1078577ee8b7470e9b03c48fcafb4388": {
     "model_module": "@jupyter-widgets/base",
     "model_module_version": "1.2.0",
     "model_name": "LayoutModel",
     "state": {
      "_model_module": "@jupyter-widgets/base",
      "_model_module_version": "1.2.0",
      "_model_name": "LayoutModel",
      "_view_count": null,
      "_view_module": "@jupyter-widgets/base",
      "_view_module_version": "1.2.0",
      "_view_name": "LayoutView",
      "align_content": null,
      "align_items": null,
      "align_self": null,
      "border": null,
      "bottom": null,
      "display": null,
      "flex": null,
      "flex_flow": null,
      "grid_area": null,
      "grid_auto_columns": null,
      "grid_auto_flow": null,
      "grid_auto_rows": null,
      "grid_column": null,
      "grid_gap": null,
      "grid_row": null,
      "grid_template_areas": null,
      "grid_template_columns": null,
      "grid_template_rows": null,
      "height": null,
      "justify_content": null,
      "justify_items": null,
      "left": null,
      "margin": null,
      "max_height": null,
      "max_width": null,
      "min_height": null,
      "min_width": null,
      "object_fit": null,
      "object_position": null,
      "order": null,
      "overflow": null,
      "overflow_x": null,
      "overflow_y": null,
      "padding": null,
      "right": null,
      "top": null,
      "visibility": null,
      "width": "20px"
     }
    },
    "1d7c81c610ec47c59177f3a1373697d5": {
     "model_module": "@jupyter-widgets/controls",
     "model_module_version": "1.5.0",
     "model_name": "HTMLModel",
     "state": {
      "_dom_classes": [],
      "_model_module": "@jupyter-widgets/controls",
      "_model_module_version": "1.5.0",
      "_model_name": "HTMLModel",
      "_view_count": null,
      "_view_module": "@jupyter-widgets/controls",
      "_view_module_version": "1.5.0",
      "_view_name": "HTMLView",
      "description": "",
      "description_tooltip": null,
      "layout": "IPY_MODEL_d6ce137c93d647679d02dac3242fcdbd",
      "placeholder": "​",
      "style": "IPY_MODEL_7014948294aa463c8ce10e7df9023cea",
      "value": " 56376/101008 [09:29&lt;00:49, 896.91 file/s]"
     }
    },
    "1eb6b6fc6d1f4239b16a47210ba549d8": {
     "model_module": "@jupyter-widgets/controls",
     "model_module_version": "1.5.0",
     "model_name": "HTMLModel",
     "state": {
      "_dom_classes": [],
      "_model_module": "@jupyter-widgets/controls",
      "_model_module_version": "1.5.0",
      "_model_name": "HTMLModel",
      "_view_count": null,
      "_view_module": "@jupyter-widgets/controls",
      "_view_module_version": "1.5.0",
      "_view_name": "HTMLView",
      "description": "",
      "description_tooltip": null,
      "layout": "IPY_MODEL_90e29cf1d0504477a9418c1bb42d1f55",
      "placeholder": "​",
      "style": "IPY_MODEL_5c02b85f51f6488aadd6f107058db3be",
      "value": " 4764/4764 [09:29&lt;00:00, 18.41 MiB/s]"
     }
    },
    "3de573a1048f4187ad367c3f2b8b4a64": {
     "model_module": "@jupyter-widgets/base",
     "model_module_version": "1.2.0",
     "model_name": "LayoutModel",
     "state": {
      "_model_module": "@jupyter-widgets/base",
      "_model_module_version": "1.2.0",
      "_model_name": "LayoutModel",
      "_view_count": null,
      "_view_module": "@jupyter-widgets/base",
      "_view_module_version": "1.2.0",
      "_view_name": "LayoutView",
      "align_content": null,
      "align_items": null,
      "align_self": null,
      "border": null,
      "bottom": null,
      "display": null,
      "flex": null,
      "flex_flow": null,
      "grid_area": null,
      "grid_auto_columns": null,
      "grid_auto_flow": null,
      "grid_auto_rows": null,
      "grid_column": null,
      "grid_gap": null,
      "grid_row": null,
      "grid_template_areas": null,
      "grid_template_columns": null,
      "grid_template_rows": null,
      "height": null,
      "justify_content": null,
      "justify_items": null,
      "left": null,
      "margin": null,
      "max_height": null,
      "max_width": null,
      "min_height": null,
      "min_width": null,
      "object_fit": null,
      "object_position": null,
      "order": null,
      "overflow": null,
      "overflow_x": null,
      "overflow_y": null,
      "padding": null,
      "right": null,
      "top": null,
      "visibility": null,
      "width": null
     }
    },
    "40204d98f8d34dbb92b45db5849e23ed": {
     "model_module": "@jupyter-widgets/controls",
     "model_module_version": "1.5.0",
     "model_name": "HBoxModel",
     "state": {
      "_dom_classes": [],
      "_model_module": "@jupyter-widgets/controls",
      "_model_module_version": "1.5.0",
      "_model_name": "HBoxModel",
      "_view_count": null,
      "_view_module": "@jupyter-widgets/controls",
      "_view_module_version": "1.5.0",
      "_view_name": "HBoxView",
      "box_style": "",
      "children": [
       "IPY_MODEL_59e25d8f4e6e4105bccddbc046c9a7a6",
       "IPY_MODEL_8e10c61ecdc1432bb59dddc5b8a5d81d",
       "IPY_MODEL_1d7c81c610ec47c59177f3a1373697d5"
      ],
      "layout": "IPY_MODEL_6522011e7ec04243a14015f43c822150"
     }
    },
    "50a78f21dc7a4dcaa2ed42b3cf41ce15": {
     "model_module": "@jupyter-widgets/controls",
     "model_module_version": "1.5.0",
     "model_name": "HBoxModel",
     "state": {
      "_dom_classes": [],
      "_model_module": "@jupyter-widgets/controls",
      "_model_module_version": "1.5.0",
      "_model_name": "HBoxModel",
      "_view_count": null,
      "_view_module": "@jupyter-widgets/controls",
      "_view_module_version": "1.5.0",
      "_view_name": "HBoxView",
      "box_style": "",
      "children": [
       "IPY_MODEL_85cabbf7c9494781b2dd85a0ea6300ce",
       "IPY_MODEL_daf1d735f75c4a5d9131da851c3c8a1a",
       "IPY_MODEL_d52293a7483c4719b9a3f6c829cc4a41"
      ],
      "layout": "IPY_MODEL_5d7f16af1dab4c19a3165886ae0f73c9"
     }
    },
    "5694918de8c7403bbc0671cf43c2bc2d": {
     "model_module": "@jupyter-widgets/base",
     "model_module_version": "1.2.0",
     "model_name": "LayoutModel",
     "state": {
      "_model_module": "@jupyter-widgets/base",
      "_model_module_version": "1.2.0",
      "_model_name": "LayoutModel",
      "_view_count": null,
      "_view_module": "@jupyter-widgets/base",
      "_view_module_version": "1.2.0",
      "_view_name": "LayoutView",
      "align_content": null,
      "align_items": null,
      "align_self": null,
      "border": null,
      "bottom": null,
      "display": null,
      "flex": null,
      "flex_flow": null,
      "grid_area": null,
      "grid_auto_columns": null,
      "grid_auto_flow": null,
      "grid_auto_rows": null,
      "grid_column": null,
      "grid_gap": null,
      "grid_row": null,
      "grid_template_areas": null,
      "grid_template_columns": null,
      "grid_template_rows": null,
      "height": null,
      "justify_content": null,
      "justify_items": null,
      "left": null,
      "margin": null,
      "max_height": null,
      "max_width": null,
      "min_height": null,
      "min_width": null,
      "object_fit": null,
      "object_position": null,
      "order": null,
      "overflow": null,
      "overflow_x": null,
      "overflow_y": null,
      "padding": null,
      "right": null,
      "top": null,
      "visibility": null,
      "width": null
     }
    },
    "59e25d8f4e6e4105bccddbc046c9a7a6": {
     "model_module": "@jupyter-widgets/controls",
     "model_module_version": "1.5.0",
     "model_name": "HTMLModel",
     "state": {
      "_dom_classes": [],
      "_model_module": "@jupyter-widgets/controls",
      "_model_module_version": "1.5.0",
      "_model_name": "HTMLModel",
      "_view_count": null,
      "_view_module": "@jupyter-widgets/controls",
      "_view_module_version": "1.5.0",
      "_view_name": "HTMLView",
      "description": "",
      "description_tooltip": null,
      "layout": "IPY_MODEL_3de573a1048f4187ad367c3f2b8b4a64",
      "placeholder": "​",
      "style": "IPY_MODEL_86c1d41185704e8598f209f5ae4228dc",
      "value": "Extraction completed...:  56%"
     }
    },
    "5c02b85f51f6488aadd6f107058db3be": {
     "model_module": "@jupyter-widgets/controls",
     "model_module_version": "1.5.0",
     "model_name": "DescriptionStyleModel",
     "state": {
      "_model_module": "@jupyter-widgets/controls",
      "_model_module_version": "1.5.0",
      "_model_name": "DescriptionStyleModel",
      "_view_count": null,
      "_view_module": "@jupyter-widgets/base",
      "_view_module_version": "1.2.0",
      "_view_name": "StyleView",
      "description_width": ""
     }
    },
    "5d7f16af1dab4c19a3165886ae0f73c9": {
     "model_module": "@jupyter-widgets/base",
     "model_module_version": "1.2.0",
     "model_name": "LayoutModel",
     "state": {
      "_model_module": "@jupyter-widgets/base",
      "_model_module_version": "1.2.0",
      "_model_name": "LayoutModel",
      "_view_count": null,
      "_view_module": "@jupyter-widgets/base",
      "_view_module_version": "1.2.0",
      "_view_name": "LayoutView",
      "align_content": null,
      "align_items": null,
      "align_self": null,
      "border": null,
      "bottom": null,
      "display": null,
      "flex": null,
      "flex_flow": null,
      "grid_area": null,
      "grid_auto_columns": null,
      "grid_auto_flow": null,
      "grid_auto_rows": null,
      "grid_column": null,
      "grid_gap": null,
      "grid_row": null,
      "grid_template_areas": null,
      "grid_template_columns": null,
      "grid_template_rows": null,
      "height": null,
      "justify_content": null,
      "justify_items": null,
      "left": null,
      "margin": null,
      "max_height": null,
      "max_width": null,
      "min_height": null,
      "min_width": null,
      "object_fit": null,
      "object_position": null,
      "order": null,
      "overflow": null,
      "overflow_x": null,
      "overflow_y": null,
      "padding": null,
      "right": null,
      "top": null,
      "visibility": null,
      "width": null
     }
    },
    "6522011e7ec04243a14015f43c822150": {
     "model_module": "@jupyter-widgets/base",
     "model_module_version": "1.2.0",
     "model_name": "LayoutModel",
     "state": {
      "_model_module": "@jupyter-widgets/base",
      "_model_module_version": "1.2.0",
      "_model_name": "LayoutModel",
      "_view_count": null,
      "_view_module": "@jupyter-widgets/base",
      "_view_module_version": "1.2.0",
      "_view_name": "LayoutView",
      "align_content": null,
      "align_items": null,
      "align_self": null,
      "border": null,
      "bottom": null,
      "display": null,
      "flex": null,
      "flex_flow": null,
      "grid_area": null,
      "grid_auto_columns": null,
      "grid_auto_flow": null,
      "grid_auto_rows": null,
      "grid_column": null,
      "grid_gap": null,
      "grid_row": null,
      "grid_template_areas": null,
      "grid_template_columns": null,
      "grid_template_rows": null,
      "height": null,
      "justify_content": null,
      "justify_items": null,
      "left": null,
      "margin": null,
      "max_height": null,
      "max_width": null,
      "min_height": null,
      "min_width": null,
      "object_fit": null,
      "object_position": null,
      "order": null,
      "overflow": null,
      "overflow_x": null,
      "overflow_y": null,
      "padding": null,
      "right": null,
      "top": null,
      "visibility": null,
      "width": null
     }
    },
    "68eb101c13ca4a8f8afd7fb05da83583": {
     "model_module": "@jupyter-widgets/base",
     "model_module_version": "1.2.0",
     "model_name": "LayoutModel",
     "state": {
      "_model_module": "@jupyter-widgets/base",
      "_model_module_version": "1.2.0",
      "_model_name": "LayoutModel",
      "_view_count": null,
      "_view_module": "@jupyter-widgets/base",
      "_view_module_version": "1.2.0",
      "_view_name": "LayoutView",
      "align_content": null,
      "align_items": null,
      "align_self": null,
      "border": null,
      "bottom": null,
      "display": null,
      "flex": null,
      "flex_flow": null,
      "grid_area": null,
      "grid_auto_columns": null,
      "grid_auto_flow": null,
      "grid_auto_rows": null,
      "grid_column": null,
      "grid_gap": null,
      "grid_row": null,
      "grid_template_areas": null,
      "grid_template_columns": null,
      "grid_template_rows": null,
      "height": null,
      "justify_content": null,
      "justify_items": null,
      "left": null,
      "margin": null,
      "max_height": null,
      "max_width": null,
      "min_height": null,
      "min_width": null,
      "object_fit": null,
      "object_position": null,
      "order": null,
      "overflow": null,
      "overflow_x": null,
      "overflow_y": null,
      "padding": null,
      "right": null,
      "top": null,
      "visibility": null,
      "width": "20px"
     }
    },
    "7014948294aa463c8ce10e7df9023cea": {
     "model_module": "@jupyter-widgets/controls",
     "model_module_version": "1.5.0",
     "model_name": "DescriptionStyleModel",
     "state": {
      "_model_module": "@jupyter-widgets/controls",
      "_model_module_version": "1.5.0",
      "_model_name": "DescriptionStyleModel",
      "_view_count": null,
      "_view_module": "@jupyter-widgets/base",
      "_view_module_version": "1.2.0",
      "_view_name": "StyleView",
      "description_width": ""
     }
    },
    "79bc9cc7a94a4bc2b5e39da4d58fe005": {
     "model_module": "@jupyter-widgets/controls",
     "model_module_version": "1.5.0",
     "model_name": "HTMLModel",
     "state": {
      "_dom_classes": [],
      "_model_module": "@jupyter-widgets/controls",
      "_model_module_version": "1.5.0",
      "_model_name": "HTMLModel",
      "_view_count": null,
      "_view_module": "@jupyter-widgets/controls",
      "_view_module_version": "1.5.0",
      "_view_name": "HTMLView",
      "description": "",
      "description_tooltip": null,
      "layout": "IPY_MODEL_f5bcc85068cc44e5aaee89e416a8ccf9",
      "placeholder": "​",
      "style": "IPY_MODEL_93ea5e04bf51488ca37a5f64e7c242fc",
      "value": "Dl Size...: 100%"
     }
    },
    "845407d0b98e4b4faa78234597e3739d": {
     "model_module": "@jupyter-widgets/controls",
     "model_module_version": "1.5.0",
     "model_name": "DescriptionStyleModel",
     "state": {
      "_model_module": "@jupyter-widgets/controls",
      "_model_module_version": "1.5.0",
      "_model_name": "DescriptionStyleModel",
      "_view_count": null,
      "_view_module": "@jupyter-widgets/base",
      "_view_module_version": "1.2.0",
      "_view_name": "StyleView",
      "description_width": ""
     }
    },
    "847fea89b50a4148858a8f67af5385d0": {
     "model_module": "@jupyter-widgets/controls",
     "model_module_version": "1.5.0",
     "model_name": "HBoxModel",
     "state": {
      "_dom_classes": [],
      "_model_module": "@jupyter-widgets/controls",
      "_model_module_version": "1.5.0",
      "_model_name": "HBoxModel",
      "_view_count": null,
      "_view_module": "@jupyter-widgets/controls",
      "_view_module_version": "1.5.0",
      "_view_name": "HBoxView",
      "box_style": "",
      "children": [
       "IPY_MODEL_79bc9cc7a94a4bc2b5e39da4d58fe005",
       "IPY_MODEL_8b2a75b0479a46d8a6a66406cdabe952",
       "IPY_MODEL_1eb6b6fc6d1f4239b16a47210ba549d8"
      ],
      "layout": "IPY_MODEL_e53c626a21144d549a5ce81c591b698d"
     }
    },
    "85cabbf7c9494781b2dd85a0ea6300ce": {
     "model_module": "@jupyter-widgets/controls",
     "model_module_version": "1.5.0",
     "model_name": "HTMLModel",
     "state": {
      "_dom_classes": [],
      "_model_module": "@jupyter-widgets/controls",
      "_model_module_version": "1.5.0",
      "_model_name": "HTMLModel",
      "_view_count": null,
      "_view_module": "@jupyter-widgets/controls",
      "_view_module_version": "1.5.0",
      "_view_name": "HTMLView",
      "description": "",
      "description_tooltip": null,
      "layout": "IPY_MODEL_a5d95299836b43608a9e702c436c8599",
      "placeholder": "​",
      "style": "IPY_MODEL_c533bb0840b44bf8945c9d3c7db04361",
      "value": "Dl Completed...: 100%"
     }
    },
    "86c1d41185704e8598f209f5ae4228dc": {
     "model_module": "@jupyter-widgets/controls",
     "model_module_version": "1.5.0",
     "model_name": "DescriptionStyleModel",
     "state": {
      "_model_module": "@jupyter-widgets/controls",
      "_model_module_version": "1.5.0",
      "_model_name": "DescriptionStyleModel",
      "_view_count": null,
      "_view_module": "@jupyter-widgets/base",
      "_view_module_version": "1.2.0",
      "_view_name": "StyleView",
      "description_width": ""
     }
    },
    "8b2a75b0479a46d8a6a66406cdabe952": {
     "model_module": "@jupyter-widgets/controls",
     "model_module_version": "1.5.0",
     "model_name": "FloatProgressModel",
     "state": {
      "_dom_classes": [],
      "_model_module": "@jupyter-widgets/controls",
      "_model_module_version": "1.5.0",
      "_model_name": "FloatProgressModel",
      "_view_count": null,
      "_view_module": "@jupyter-widgets/controls",
      "_view_module_version": "1.5.0",
      "_view_name": "ProgressView",
      "bar_style": "info",
      "description": "",
      "description_tooltip": null,
      "layout": "IPY_MODEL_1078577ee8b7470e9b03c48fcafb4388",
      "max": 1,
      "min": 0,
      "orientation": "horizontal",
      "style": "IPY_MODEL_fcee361328424da8992a90f6ff109df2",
      "value": 1
     }
    },
    "8e10c61ecdc1432bb59dddc5b8a5d81d": {
     "model_module": "@jupyter-widgets/controls",
     "model_module_version": "1.5.0",
     "model_name": "FloatProgressModel",
     "state": {
      "_dom_classes": [],
      "_model_module": "@jupyter-widgets/controls",
      "_model_module_version": "1.5.0",
      "_model_name": "FloatProgressModel",
      "_view_count": null,
      "_view_module": "@jupyter-widgets/controls",
      "_view_module_version": "1.5.0",
      "_view_name": "ProgressView",
      "bar_style": "info",
      "description": "",
      "description_tooltip": null,
      "layout": "IPY_MODEL_68eb101c13ca4a8f8afd7fb05da83583",
      "max": 1,
      "min": 0,
      "orientation": "horizontal",
      "style": "IPY_MODEL_e252e43614b847a8a704d986c2a56b35",
      "value": 1
     }
    },
    "8f20fa9016b44700be8057e78ace69da": {
     "model_module": "@jupyter-widgets/base",
     "model_module_version": "1.2.0",
     "model_name": "LayoutModel",
     "state": {
      "_model_module": "@jupyter-widgets/base",
      "_model_module_version": "1.2.0",
      "_model_name": "LayoutModel",
      "_view_count": null,
      "_view_module": "@jupyter-widgets/base",
      "_view_module_version": "1.2.0",
      "_view_name": "LayoutView",
      "align_content": null,
      "align_items": null,
      "align_self": null,
      "border": null,
      "bottom": null,
      "display": null,
      "flex": null,
      "flex_flow": null,
      "grid_area": null,
      "grid_auto_columns": null,
      "grid_auto_flow": null,
      "grid_auto_rows": null,
      "grid_column": null,
      "grid_gap": null,
      "grid_row": null,
      "grid_template_areas": null,
      "grid_template_columns": null,
      "grid_template_rows": null,
      "height": null,
      "justify_content": null,
      "justify_items": null,
      "left": null,
      "margin": null,
      "max_height": null,
      "max_width": null,
      "min_height": null,
      "min_width": null,
      "object_fit": null,
      "object_position": null,
      "order": null,
      "overflow": null,
      "overflow_x": null,
      "overflow_y": null,
      "padding": null,
      "right": null,
      "top": null,
      "visibility": null,
      "width": "20px"
     }
    },
    "90e29cf1d0504477a9418c1bb42d1f55": {
     "model_module": "@jupyter-widgets/base",
     "model_module_version": "1.2.0",
     "model_name": "LayoutModel",
     "state": {
      "_model_module": "@jupyter-widgets/base",
      "_model_module_version": "1.2.0",
      "_model_name": "LayoutModel",
      "_view_count": null,
      "_view_module": "@jupyter-widgets/base",
      "_view_module_version": "1.2.0",
      "_view_name": "LayoutView",
      "align_content": null,
      "align_items": null,
      "align_self": null,
      "border": null,
      "bottom": null,
      "display": null,
      "flex": null,
      "flex_flow": null,
      "grid_area": null,
      "grid_auto_columns": null,
      "grid_auto_flow": null,
      "grid_auto_rows": null,
      "grid_column": null,
      "grid_gap": null,
      "grid_row": null,
      "grid_template_areas": null,
      "grid_template_columns": null,
      "grid_template_rows": null,
      "height": null,
      "justify_content": null,
      "justify_items": null,
      "left": null,
      "margin": null,
      "max_height": null,
      "max_width": null,
      "min_height": null,
      "min_width": null,
      "object_fit": null,
      "object_position": null,
      "order": null,
      "overflow": null,
      "overflow_x": null,
      "overflow_y": null,
      "padding": null,
      "right": null,
      "top": null,
      "visibility": null,
      "width": null
     }
    },
    "93ea5e04bf51488ca37a5f64e7c242fc": {
     "model_module": "@jupyter-widgets/controls",
     "model_module_version": "1.5.0",
     "model_name": "DescriptionStyleModel",
     "state": {
      "_model_module": "@jupyter-widgets/controls",
      "_model_module_version": "1.5.0",
      "_model_name": "DescriptionStyleModel",
      "_view_count": null,
      "_view_module": "@jupyter-widgets/base",
      "_view_module_version": "1.2.0",
      "_view_name": "StyleView",
      "description_width": ""
     }
    },
    "a5d95299836b43608a9e702c436c8599": {
     "model_module": "@jupyter-widgets/base",
     "model_module_version": "1.2.0",
     "model_name": "LayoutModel",
     "state": {
      "_model_module": "@jupyter-widgets/base",
      "_model_module_version": "1.2.0",
      "_model_name": "LayoutModel",
      "_view_count": null,
      "_view_module": "@jupyter-widgets/base",
      "_view_module_version": "1.2.0",
      "_view_name": "LayoutView",
      "align_content": null,
      "align_items": null,
      "align_self": null,
      "border": null,
      "bottom": null,
      "display": null,
      "flex": null,
      "flex_flow": null,
      "grid_area": null,
      "grid_auto_columns": null,
      "grid_auto_flow": null,
      "grid_auto_rows": null,
      "grid_column": null,
      "grid_gap": null,
      "grid_row": null,
      "grid_template_areas": null,
      "grid_template_columns": null,
      "grid_template_rows": null,
      "height": null,
      "justify_content": null,
      "justify_items": null,
      "left": null,
      "margin": null,
      "max_height": null,
      "max_width": null,
      "min_height": null,
      "min_width": null,
      "object_fit": null,
      "object_position": null,
      "order": null,
      "overflow": null,
      "overflow_x": null,
      "overflow_y": null,
      "padding": null,
      "right": null,
      "top": null,
      "visibility": null,
      "width": null
     }
    },
    "b63129d6c4b44bd19a02374b0cdc0567": {
     "model_module": "@jupyter-widgets/controls",
     "model_module_version": "1.5.0",
     "model_name": "ProgressStyleModel",
     "state": {
      "_model_module": "@jupyter-widgets/controls",
      "_model_module_version": "1.5.0",
      "_model_name": "ProgressStyleModel",
      "_view_count": null,
      "_view_module": "@jupyter-widgets/base",
      "_view_module_version": "1.2.0",
      "_view_name": "StyleView",
      "bar_color": null,
      "description_width": ""
     }
    },
    "c533bb0840b44bf8945c9d3c7db04361": {
     "model_module": "@jupyter-widgets/controls",
     "model_module_version": "1.5.0",
     "model_name": "DescriptionStyleModel",
     "state": {
      "_model_module": "@jupyter-widgets/controls",
      "_model_module_version": "1.5.0",
      "_model_name": "DescriptionStyleModel",
      "_view_count": null,
      "_view_module": "@jupyter-widgets/base",
      "_view_module_version": "1.2.0",
      "_view_name": "StyleView",
      "description_width": ""
     }
    },
    "d52293a7483c4719b9a3f6c829cc4a41": {
     "model_module": "@jupyter-widgets/controls",
     "model_module_version": "1.5.0",
     "model_name": "HTMLModel",
     "state": {
      "_dom_classes": [],
      "_model_module": "@jupyter-widgets/controls",
      "_model_module_version": "1.5.0",
      "_model_name": "HTMLModel",
      "_view_count": null,
      "_view_module": "@jupyter-widgets/controls",
      "_view_module_version": "1.5.0",
      "_view_name": "HTMLView",
      "description": "",
      "description_tooltip": null,
      "layout": "IPY_MODEL_5694918de8c7403bbc0671cf43c2bc2d",
      "placeholder": "​",
      "style": "IPY_MODEL_845407d0b98e4b4faa78234597e3739d",
      "value": " 1/1 [09:29&lt;00:00, 255.26s/ url]"
     }
    },
    "d6ce137c93d647679d02dac3242fcdbd": {
     "model_module": "@jupyter-widgets/base",
     "model_module_version": "1.2.0",
     "model_name": "LayoutModel",
     "state": {
      "_model_module": "@jupyter-widgets/base",
      "_model_module_version": "1.2.0",
      "_model_name": "LayoutModel",
      "_view_count": null,
      "_view_module": "@jupyter-widgets/base",
      "_view_module_version": "1.2.0",
      "_view_name": "LayoutView",
      "align_content": null,
      "align_items": null,
      "align_self": null,
      "border": null,
      "bottom": null,
      "display": null,
      "flex": null,
      "flex_flow": null,
      "grid_area": null,
      "grid_auto_columns": null,
      "grid_auto_flow": null,
      "grid_auto_rows": null,
      "grid_column": null,
      "grid_gap": null,
      "grid_row": null,
      "grid_template_areas": null,
      "grid_template_columns": null,
      "grid_template_rows": null,
      "height": null,
      "justify_content": null,
      "justify_items": null,
      "left": null,
      "margin": null,
      "max_height": null,
      "max_width": null,
      "min_height": null,
      "min_width": null,
      "object_fit": null,
      "object_position": null,
      "order": null,
      "overflow": null,
      "overflow_x": null,
      "overflow_y": null,
      "padding": null,
      "right": null,
      "top": null,
      "visibility": null,
      "width": null
     }
    },
    "daf1d735f75c4a5d9131da851c3c8a1a": {
     "model_module": "@jupyter-widgets/controls",
     "model_module_version": "1.5.0",
     "model_name": "FloatProgressModel",
     "state": {
      "_dom_classes": [],
      "_model_module": "@jupyter-widgets/controls",
      "_model_module_version": "1.5.0",
      "_model_name": "FloatProgressModel",
      "_view_count": null,
      "_view_module": "@jupyter-widgets/controls",
      "_view_module_version": "1.5.0",
      "_view_name": "ProgressView",
      "bar_style": "info",
      "description": "",
      "description_tooltip": null,
      "layout": "IPY_MODEL_8f20fa9016b44700be8057e78ace69da",
      "max": 1,
      "min": 0,
      "orientation": "horizontal",
      "style": "IPY_MODEL_b63129d6c4b44bd19a02374b0cdc0567",
      "value": 1
     }
    },
    "e252e43614b847a8a704d986c2a56b35": {
     "model_module": "@jupyter-widgets/controls",
     "model_module_version": "1.5.0",
     "model_name": "ProgressStyleModel",
     "state": {
      "_model_module": "@jupyter-widgets/controls",
      "_model_module_version": "1.5.0",
      "_model_name": "ProgressStyleModel",
      "_view_count": null,
      "_view_module": "@jupyter-widgets/base",
      "_view_module_version": "1.2.0",
      "_view_name": "StyleView",
      "bar_color": null,
      "description_width": ""
     }
    },
    "e53c626a21144d549a5ce81c591b698d": {
     "model_module": "@jupyter-widgets/base",
     "model_module_version": "1.2.0",
     "model_name": "LayoutModel",
     "state": {
      "_model_module": "@jupyter-widgets/base",
      "_model_module_version": "1.2.0",
      "_model_name": "LayoutModel",
      "_view_count": null,
      "_view_module": "@jupyter-widgets/base",
      "_view_module_version": "1.2.0",
      "_view_name": "LayoutView",
      "align_content": null,
      "align_items": null,
      "align_self": null,
      "border": null,
      "bottom": null,
      "display": null,
      "flex": null,
      "flex_flow": null,
      "grid_area": null,
      "grid_auto_columns": null,
      "grid_auto_flow": null,
      "grid_auto_rows": null,
      "grid_column": null,
      "grid_gap": null,
      "grid_row": null,
      "grid_template_areas": null,
      "grid_template_columns": null,
      "grid_template_rows": null,
      "height": null,
      "justify_content": null,
      "justify_items": null,
      "left": null,
      "margin": null,
      "max_height": null,
      "max_width": null,
      "min_height": null,
      "min_width": null,
      "object_fit": null,
      "object_position": null,
      "order": null,
      "overflow": null,
      "overflow_x": null,
      "overflow_y": null,
      "padding": null,
      "right": null,
      "top": null,
      "visibility": null,
      "width": null
     }
    },
    "f5bcc85068cc44e5aaee89e416a8ccf9": {
     "model_module": "@jupyter-widgets/base",
     "model_module_version": "1.2.0",
     "model_name": "LayoutModel",
     "state": {
      "_model_module": "@jupyter-widgets/base",
      "_model_module_version": "1.2.0",
      "_model_name": "LayoutModel",
      "_view_count": null,
      "_view_module": "@jupyter-widgets/base",
      "_view_module_version": "1.2.0",
      "_view_name": "LayoutView",
      "align_content": null,
      "align_items": null,
      "align_self": null,
      "border": null,
      "bottom": null,
      "display": null,
      "flex": null,
      "flex_flow": null,
      "grid_area": null,
      "grid_auto_columns": null,
      "grid_auto_flow": null,
      "grid_auto_rows": null,
      "grid_column": null,
      "grid_gap": null,
      "grid_row": null,
      "grid_template_areas": null,
      "grid_template_columns": null,
      "grid_template_rows": null,
      "height": null,
      "justify_content": null,
      "justify_items": null,
      "left": null,
      "margin": null,
      "max_height": null,
      "max_width": null,
      "min_height": null,
      "min_width": null,
      "object_fit": null,
      "object_position": null,
      "order": null,
      "overflow": null,
      "overflow_x": null,
      "overflow_y": null,
      "padding": null,
      "right": null,
      "top": null,
      "visibility": null,
      "width": null
     }
    },
    "fcee361328424da8992a90f6ff109df2": {
     "model_module": "@jupyter-widgets/controls",
     "model_module_version": "1.5.0",
     "model_name": "ProgressStyleModel",
     "state": {
      "_model_module": "@jupyter-widgets/controls",
      "_model_module_version": "1.5.0",
      "_model_name": "ProgressStyleModel",
      "_view_count": null,
      "_view_module": "@jupyter-widgets/base",
      "_view_module_version": "1.2.0",
      "_view_name": "StyleView",
      "bar_color": null,
      "description_width": ""
     }
    }
   }
  }
 },
 "nbformat": 4,
 "nbformat_minor": 5
}
